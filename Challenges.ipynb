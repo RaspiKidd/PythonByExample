{
 "cells": [
  {
   "cell_type": "markdown",
   "metadata": {},
   "source": [
    "# Python By Example Book Challenges\n",
    "\n",
    "## Challenge 001\n",
    "\n",
    "Ask for the user's first name and display the output message\n",
    "**Hello (First Name)**"
   ]
  },
  {
   "cell_type": "code",
   "execution_count": 1,
   "metadata": {},
   "outputs": [
    {
     "name": "stdout",
     "output_type": "stream",
     "text": [
      "Please enter your first name: Kerry\n",
      "Hello Kerry\n"
     ]
    }
   ],
   "source": [
    "firstname=input(\"Please enter your first name: \")\n",
    "\n",
    "print(\"Hello\", firstname)"
   ]
  },
  {
   "cell_type": "markdown",
   "metadata": {},
   "source": [
    "## Challenge 002\n",
    "\n",
    "Ask the user for their first name and then ask for their surname and display the output message **Hello (first name) (surname)**"
   ]
  },
  {
   "cell_type": "code",
   "execution_count": 2,
   "metadata": {},
   "outputs": [
    {
     "name": "stdout",
     "output_type": "stream",
     "text": [
      "Please enter your first name: Kerry\n",
      "Please enter your surname: Kidd\n",
      "Hello Kerry Kidd\n"
     ]
    }
   ],
   "source": [
    "firstname = input(\"Please enter your first name: \")\n",
    "surname = input(\"Please enter your surname: \")\n",
    "\n",
    "print (\"Hello\", firstname, surname)"
   ]
  },
  {
   "cell_type": "markdown",
   "metadata": {},
   "source": [
    "## Challenge 003\n",
    "\n",
    "Write code that will display the joke **\"What do you call a bear with no teeth?\"** and on the next line display the answer **\"A gummy bear!\"** Try to create it using one line of code. "
   ]
  },
  {
   "cell_type": "code",
   "execution_count": 3,
   "metadata": {},
   "outputs": [
    {
     "name": "stdout",
     "output_type": "stream",
     "text": [
      "What do you call a bear with no teeth?\n",
      "A gummy bear\n"
     ]
    }
   ],
   "source": [
    "print(\"What do you call a bear with no teeth?\\nA gummy bear\")"
   ]
  },
  {
   "cell_type": "markdown",
   "metadata": {},
   "source": [
    "## Challenge 004\n",
    "\n",
    "Ask the user to enter two numbers. Add them together and display the answer as **The total is (answer)**"
   ]
  },
  {
   "cell_type": "code",
   "execution_count": 4,
   "metadata": {},
   "outputs": [
    {
     "name": "stdout",
     "output_type": "stream",
     "text": [
      "Enter a number: 2\n",
      "Enter another number: 2\n",
      "The total is 4\n"
     ]
    }
   ],
   "source": [
    "numvalue1 = int(input(\"Enter a number: \"))\n",
    "numvalue2 = int(input(\"Enter another number: \"))\n",
    "total = numvalue1 + numvalue2\n",
    "\n",
    "print(\"The total is\", total)"
   ]
  },
  {
   "cell_type": "markdown",
   "metadata": {},
   "source": [
    "## Challenge 005\n",
    "\n",
    "Ask the user to enter three numbers. Add together the first two numbers and then multiply this total by the third number. Display the answer as **The answer is (answer)**"
   ]
  },
  {
   "cell_type": "code",
   "execution_count": 5,
   "metadata": {},
   "outputs": [
    {
     "name": "stdout",
     "output_type": "stream",
     "text": [
      "Enter a number: 2\n",
      "Enter another number: 2\n",
      "Enter a third number: 2\n",
      "The answer is 8\n"
     ]
    }
   ],
   "source": [
    "num1 = int(input(\"Enter a number: \"))\n",
    "num2 = int(input(\"Enter another number: \"))\n",
    "num3 = int(input(\"Enter a third number: \"))\n",
    "\n",
    "answer = (num1 + num2)*num3\n",
    "\n",
    "print(\"The answer is\" , answer)"
   ]
  },
  {
   "cell_type": "markdown",
   "metadata": {},
   "source": [
    "## Challenge 006\n",
    "\n",
    "Ask how many slices of pizza the user started with and ask howmany they have eaten. Workout how many slices they have left and diaplay the answer in a user-friendly format."
   ]
  },
  {
   "cell_type": "code",
   "execution_count": 6,
   "metadata": {},
   "outputs": [
    {
     "name": "stdout",
     "output_type": "stream",
     "text": [
      "How many slices of pizza? 12\n",
      "How many slices have you eaten? 5\n",
      "You have 7 slices of pizza left\n"
     ]
    }
   ],
   "source": [
    "startedWith = int(input(\"How many slices of pizza? \"))\n",
    "eaten = int(input(\"How many slices have you eaten? \"))\n",
    "left = startedWith - eaten\n",
    "\n",
    "print (\"You have\", left, \"slices of pizza left\")"
   ]
  },
  {
   "cell_type": "markdown",
   "metadata": {},
   "source": [
    "## Challenge 007\n",
    "\n",
    "Ask the user for their name and their age. Add 1 to their age and display the output **(Name) next birthday you will be (new age)**"
   ]
  },
  {
   "cell_type": "code",
   "execution_count": 7,
   "metadata": {},
   "outputs": [
    {
     "name": "stdout",
     "output_type": "stream",
     "text": [
      "What is your name? kerry\n",
      "What is your age? 31\n",
      "kerry next birthday you will be 32\n"
     ]
    }
   ],
   "source": [
    "name = input(\"What is your name? \")\n",
    "age = int(input(\"What is your age? \"))\n",
    "newAge = age + 1\n",
    "\n",
    "print(name, \"next birthday you will be\", newAge)"
   ]
  },
  {
   "cell_type": "markdown",
   "metadata": {},
   "source": [
    "## Challenge 008\n",
    "\n",
    "Ask for the total price of the bill, then ask how many diners there are. Divide the total bill by the number of diners and show how much each person must pay."
   ]
  },
  {
   "cell_type": "code",
   "execution_count": 9,
   "metadata": {},
   "outputs": [
    {
     "name": "stdout",
     "output_type": "stream",
     "text": [
      "What is the total bill?200\n",
      "How many diners? 15\n",
      "Each diner has to pay £ 13.333333333333334\n"
     ]
    }
   ],
   "source": [
    "totalBill = int(input(\"What is the total bill?\"))\n",
    "Diners = int(input(\"How many diners? \"))\n",
    "ToPay = totalBill / Diners\n",
    "\n",
    "print(\"Each diner has to pay £\", ToPay)"
   ]
  },
  {
   "cell_type": "markdown",
   "metadata": {},
   "source": [
    "## Challenge 009\n",
    "\n",
    "Write a program that will ask for a number of days and then will show howmany hours, minutes and seconds are in that number of days."
   ]
  },
  {
   "cell_type": "code",
   "execution_count": 10,
   "metadata": {},
   "outputs": [
    {
     "name": "stdout",
     "output_type": "stream",
     "text": [
      "How many days? 2\n",
      "In 2 days there are...\n",
      "48 hours\n",
      "2880 minutes\n",
      "172800 seconds\n"
     ]
    }
   ],
   "source": [
    "days = int(input(\"How many days? \"))\n",
    "hours = days * 24\n",
    "minutes = hours * 60\n",
    "seconds = minutes * 60\n",
    "\n",
    "print(\"In\", days, \"days there are...\")\n",
    "print(hours, \"hours\")\n",
    "print(minutes, \"minutes\")\n",
    "print(seconds, \"seconds\")"
   ]
  },
  {
   "cell_type": "markdown",
   "metadata": {},
   "source": [
    "## Challenge 010\n",
    "\n",
    "There are 2,204 pounds in a kilogram. Ask the user to enter a weight in kilograms and convert it to pounds."
   ]
  },
  {
   "cell_type": "code",
   "execution_count": 11,
   "metadata": {},
   "outputs": [
    {
     "name": "stdout",
     "output_type": "stream",
     "text": [
      "How many kilograms? 12\n",
      "That is 26.448 pounds\n"
     ]
    }
   ],
   "source": [
    "kilo = int(input(\"How many kilograms? \"))\n",
    "\n",
    "pounds = kilo * 2.204\n",
    "\n",
    "print(\"That is\", pounds, \"pounds\")"
   ]
  },
  {
   "cell_type": "markdown",
   "metadata": {},
   "source": [
    "## Challenge 011\n",
    "\n",
    "Task the user to enter a number over 100 and then enter a number under 10 and tell them how many times the smaller number goes into the larger number in a user-friendly format."
   ]
  },
  {
   "cell_type": "code",
   "execution_count": 12,
   "metadata": {},
   "outputs": [
    {
     "name": "stdout",
     "output_type": "stream",
     "text": [
      "Enter a number over 100: 101\n",
      "Enter a number under 10: 3\n",
      "3 goes into 101 33.666666666666664 times\n"
     ]
    }
   ],
   "source": [
    "larger = int(input(\"Enter a number over 100: \"))\n",
    "smaller = int(input(\"Enter a number under 10: \"))\n",
    "\n",
    "answer = larger / smaller\n",
    "\n",
    "print(smaller, \"goes into\", larger, answer, \"times\")"
   ]
  },
  {
   "cell_type": "code",
   "execution_count": null,
   "metadata": {},
   "outputs": [],
   "source": []
  }
 ],
 "metadata": {
  "kernelspec": {
   "display_name": "Python 3",
   "language": "python",
   "name": "python3"
  },
  "language_info": {
   "codemirror_mode": {
    "name": "ipython",
    "version": 3
   },
   "file_extension": ".py",
   "mimetype": "text/x-python",
   "name": "python",
   "nbconvert_exporter": "python",
   "pygments_lexer": "ipython3",
   "version": "3.7.3"
  }
 },
 "nbformat": 4,
 "nbformat_minor": 2
}
