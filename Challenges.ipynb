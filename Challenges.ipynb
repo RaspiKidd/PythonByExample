{
 "cells": [
  {
   "cell_type": "markdown",
   "metadata": {},
   "source": [
    "# Python By Example Book Challenges\n",
    "\n",
    "## Challenge 001\n",
    "\n",
    "Ask for the user's first name and display the output message\n",
    "**Hello (First Name)**"
   ]
  },
  {
   "cell_type": "code",
   "execution_count": null,
   "metadata": {},
   "outputs": [],
   "source": [
    "firstname=input(\"Please enter your first name: \")\n",
    "\n",
    "print(\"Hello\", firstname)"
   ]
  }
 ],
 "metadata": {
  "kernelspec": {
   "display_name": "Python 3",
   "language": "python",
   "name": "python3"
  }
 },
 "nbformat": 4,
 "nbformat_minor": 2
}
