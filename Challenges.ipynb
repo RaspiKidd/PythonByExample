{
 "cells": [
  {
   "cell_type": "markdown",
   "metadata": {},
   "source": [
    "# Python By Example Book Challenges\n",
    "\n",
    "## Challenge 001\n",
    "\n",
    "Ask for the user's first name and display the output message\n",
    "**Hello (First Name)**"
   ]
  },
  {
   "cell_type": "code",
   "execution_count": 1,
   "metadata": {},
   "outputs": [
    {
     "name": "stdout",
     "output_type": "stream",
     "text": [
      "Please enter your first name: Kerry\n",
      "Hello Kerry\n"
     ]
    }
   ],
   "source": [
    "firstname=input(\"Please enter your first name: \")\n",
    "\n",
    "print(\"Hello\", firstname)"
   ]
  },
  {
   "cell_type": "markdown",
   "metadata": {},
   "source": [
    "## Challenge 002\n",
    "\n",
    "Ask the user for their first name and then ask for their surname and display the output message **Hello (first name) (surname)**"
   ]
  },
  {
   "cell_type": "code",
   "execution_count": 2,
   "metadata": {},
   "outputs": [
    {
     "name": "stdout",
     "output_type": "stream",
     "text": [
      "Please enter your first name: Kerry\n",
      "Please enter your surname: Kidd\n",
      "Hello Kerry Kidd\n"
     ]
    }
   ],
   "source": [
    "firstname = input(\"Please enter your first name: \")\n",
    "surname = input(\"Please enter your surname: \")\n",
    "\n",
    "print (\"Hello\", firstname, surname)"
   ]
  },
  {
   "cell_type": "markdown",
   "metadata": {},
   "source": [
    "## Challenge 003\n",
    "\n",
    "Write code that will display the joke **\"What do you call a bear with no teeth?\"** and on the next line display the answer **\"A gummy bear!\"** Try to create it using one line of code. "
   ]
  },
  {
   "cell_type": "code",
   "execution_count": 3,
   "metadata": {},
   "outputs": [
    {
     "name": "stdout",
     "output_type": "stream",
     "text": [
      "What do you call a bear with no teeth?\n",
      "A gummy bear\n"
     ]
    }
   ],
   "source": [
    "print(\"What do you call a bear with no teeth?\\nA gummy bear\")"
   ]
  },
  {
   "cell_type": "markdown",
   "metadata": {},
   "source": [
    "## Challenge 004\n",
    "\n",
    "Ask the user to enter two numbers. Add them together and display the answer as **The total is (answer)**"
   ]
  },
  {
   "cell_type": "code",
   "execution_count": 4,
   "metadata": {},
   "outputs": [
    {
     "name": "stdout",
     "output_type": "stream",
     "text": [
      "Enter a number: 2\n",
      "Enter another number: 2\n",
      "The total is 4\n"
     ]
    }
   ],
   "source": [
    "numvalue1 = int(input(\"Enter a number: \"))\n",
    "numvalue2 = int(input(\"Enter another number: \"))\n",
    "total = numvalue1 + numvalue2\n",
    "\n",
    "print(\"The total is\", total)"
   ]
  },
  {
   "cell_type": "markdown",
   "metadata": {},
   "source": [
    "## Challenge 005\n",
    "\n",
    "Ask the user to enter three numbers. Add together the first two numbers and then multiply this total by the third number. Display the answer as **The answer is (answer)**"
   ]
  },
  {
   "cell_type": "code",
   "execution_count": 5,
   "metadata": {},
   "outputs": [
    {
     "name": "stdout",
     "output_type": "stream",
     "text": [
      "Enter a number: 2\n",
      "Enter another number: 2\n",
      "Enter a third number: 2\n",
      "The answer is 8\n"
     ]
    }
   ],
   "source": [
    "num1 = int(input(\"Enter a number: \"))\n",
    "num2 = int(input(\"Enter another number: \"))\n",
    "num3 = int(input(\"Enter a third number: \"))\n",
    "\n",
    "answer = (num1 + num2)*num3\n",
    "\n",
    "print(\"The answer is\" , answer)"
   ]
  },
  {
   "cell_type": "markdown",
   "metadata": {},
   "source": [
    "## Challenge 006\n",
    "\n",
    "Ask how many slices of pizza the user started with and ask howmany they have eaten. Workout how many slices they have left and diaplay the answer in a user-friendly format."
   ]
  },
  {
   "cell_type": "code",
   "execution_count": 6,
   "metadata": {},
   "outputs": [
    {
     "name": "stdout",
     "output_type": "stream",
     "text": [
      "How many slices of pizza? 12\n",
      "How many slices have you eaten? 5\n",
      "You have 7 slices of pizza left\n"
     ]
    }
   ],
   "source": [
    "startedWith = int(input(\"How many slices of pizza? \"))\n",
    "eaten = int(input(\"How many slices have you eaten? \"))\n",
    "left = startedWith - eaten\n",
    "\n",
    "print (\"You have\", left, \"slices of pizza left\")"
   ]
  },
  {
   "cell_type": "markdown",
   "metadata": {},
   "source": [
    "## Challenge 007\n",
    "\n",
    "Ask the user for their name and their age. Add 1 to their age and display the output **(Name) next birthday you will be (new age)**"
   ]
  },
  {
   "cell_type": "code",
   "execution_count": 7,
   "metadata": {},
   "outputs": [
    {
     "name": "stdout",
     "output_type": "stream",
     "text": [
      "What is your name? kerry\n",
      "What is your age? 31\n",
      "kerry next birthday you will be 32\n"
     ]
    }
   ],
   "source": [
    "name = input(\"What is your name? \")\n",
    "age = int(input(\"What is your age? \"))\n",
    "newAge = age + 1\n",
    "\n",
    "print(name, \"next birthday you will be\", newAge)"
   ]
  },
  {
   "cell_type": "markdown",
   "metadata": {},
   "source": [
    "## Challenge 008\n",
    "\n",
    "Ask for the total price of the bill, then ask how many diners there are. Divide the total bill by the number of diners and show how much each person must pay."
   ]
  },
  {
   "cell_type": "code",
   "execution_count": 9,
   "metadata": {},
   "outputs": [
    {
     "name": "stdout",
     "output_type": "stream",
     "text": [
      "What is the total bill?200\n",
      "How many diners? 15\n",
      "Each diner has to pay £ 13.333333333333334\n"
     ]
    }
   ],
   "source": [
    "totalBill = int(input(\"What is the total bill?\"))\n",
    "Diners = int(input(\"How many diners? \"))\n",
    "ToPay = totalBill / Diners\n",
    "\n",
    "print(\"Each diner has to pay £\", ToPay)"
   ]
  },
  {
   "cell_type": "markdown",
   "metadata": {},
   "source": [
    "## Challenge 009\n",
    "\n",
    "Write a program that will ask for a number of days and then will show howmany hours, minutes and seconds are in that number of days."
   ]
  },
  {
   "cell_type": "code",
   "execution_count": 10,
   "metadata": {},
   "outputs": [
    {
     "name": "stdout",
     "output_type": "stream",
     "text": [
      "How many days? 2\n",
      "In 2 days there are...\n",
      "48 hours\n",
      "2880 minutes\n",
      "172800 seconds\n"
     ]
    }
   ],
   "source": [
    "days = int(input(\"How many days? \"))\n",
    "hours = days * 24\n",
    "minutes = hours * 60\n",
    "seconds = minutes * 60\n",
    "\n",
    "print(\"In\", days, \"days there are...\")\n",
    "print(hours, \"hours\")\n",
    "print(minutes, \"minutes\")\n",
    "print(seconds, \"seconds\")"
   ]
  },
  {
   "cell_type": "markdown",
   "metadata": {},
   "source": [
    "## Challenge 010\n",
    "\n",
    "There are 2,204 pounds in a kilogram. Ask the user to enter a weight in kilograms and convert it to pounds."
   ]
  },
  {
   "cell_type": "code",
   "execution_count": 11,
   "metadata": {},
   "outputs": [
    {
     "name": "stdout",
     "output_type": "stream",
     "text": [
      "How many kilograms? 12\n",
      "That is 26.448 pounds\n"
     ]
    }
   ],
   "source": [
    "kilo = int(input(\"How many kilograms? \"))\n",
    "\n",
    "pounds = kilo * 2.204\n",
    "\n",
    "print(\"That is\", pounds, \"pounds\")"
   ]
  },
  {
   "cell_type": "markdown",
   "metadata": {},
   "source": [
    "## Challenge 011\n",
    "\n",
    "Task the user to enter a number over 100 and then enter a number under 10 and tell them how many times the smaller number goes into the larger number in a user-friendly format."
   ]
  },
  {
   "cell_type": "code",
   "execution_count": 12,
   "metadata": {},
   "outputs": [
    {
     "name": "stdout",
     "output_type": "stream",
     "text": [
      "Enter a number over 100: 101\n",
      "Enter a number under 10: 3\n",
      "3 goes into 101 33.666666666666664 times\n"
     ]
    }
   ],
   "source": [
    "larger = int(input(\"Enter a number over 100: \"))\n",
    "smaller = int(input(\"Enter a number under 10: \"))\n",
    "\n",
    "answer = larger / smaller\n",
    "\n",
    "print(smaller, \"goes into\", larger, answer, \"times\")"
   ]
  },
  {
   "cell_type": "markdown",
   "metadata": {},
   "source": [
    "## Challenge 012\n",
    "\n",
    "Ask for two numbers. If the first one is larger than the second, display the second number first and then the first number, otherwise show the first number first then the second number."
   ]
  },
  {
   "cell_type": "code",
   "execution_count": 1,
   "metadata": {},
   "outputs": [
    {
     "name": "stdout",
     "output_type": "stream",
     "text": [
      "Enter a number: 2\n",
      "Enter another number: 5\n",
      "2 5\n"
     ]
    }
   ],
   "source": [
    "num1 = int(input(\"Enter a number: \"))\n",
    "num2 = int(input(\"Enter another number: \"))\n",
    "\n",
    "if num1 > num2:\n",
    "    print(num2, num1)\n",
    "else:\n",
    "    print(num1, num2)"
   ]
  },
  {
   "cell_type": "markdown",
   "metadata": {},
   "source": [
    "# Challenge 013\n",
    "\n",
    "Ask the user to enter a number that is under 20. If they enter a number that is 20 or more, Display the message \"Too high\" otherwise display \"Thank you\""
   ]
  },
  {
   "cell_type": "code",
   "execution_count": 2,
   "metadata": {},
   "outputs": [
    {
     "name": "stdout",
     "output_type": "stream",
     "text": [
      "Enter a number under 20: 10\n",
      "Thank you\n"
     ]
    }
   ],
   "source": [
    "num = int(input(\"Enter a number under 20: \"))\n",
    "\n",
    "if num >= 20:\n",
    "    print(\"Too high\")\n",
    "else:\n",
    "    print(\"Thank you\")"
   ]
  },
  {
   "cell_type": "markdown",
   "metadata": {},
   "source": [
    "# Challenge 014\n",
    "\n",
    "Ask the user to enter a number between 10 and 20 (inclusive). If they enter a number within this range, display the message \"Thank you\" otherwise display the message \"Incorrect answer\"."
   ]
  },
  {
   "cell_type": "code",
   "execution_count": 3,
   "metadata": {},
   "outputs": [
    {
     "name": "stdout",
     "output_type": "stream",
     "text": [
      "Enter a number between 10 and 20:15\n",
      "Thank you\n"
     ]
    }
   ],
   "source": [
    "num = int(input(\"Enter a number between 10 and 20:\"))\n",
    "\n",
    "if num >= 10 and num <= 20:\n",
    "    print(\"Thank you\")\n",
    "else:\n",
    "    print(\"Incorrect answer\")"
   ]
  },
  {
   "cell_type": "markdown",
   "metadata": {},
   "source": [
    "# Challenge 015\n",
    "\n",
    "Ask the user to enter their favourite colour. If they enter \"red\", \"RED\" or \"Red\" display the message \"I like red too\", otherwise display the message \"I don't like (colour). I prefer red."
   ]
  },
  {
   "cell_type": "code",
   "execution_count": 4,
   "metadata": {},
   "outputs": [
    {
     "name": "stdout",
     "output_type": "stream",
     "text": [
      "What is your favourite colour? RED\n",
      "I like red too\n"
     ]
    }
   ],
   "source": [
    "colour = input(\"What is your favourite colour? \")\n",
    "\n",
    "if colour == \"red\" or colour == \"RED\" or colour == \"Red\":\n",
    "    print(\"I like red too\")\n",
    "else:\n",
    "    print (\"I don't like\", colour, \"I prefer red\")"
   ]
  },
  {
   "cell_type": "markdown",
   "metadata": {},
   "source": [
    "# Challenge 016\n",
    "\n",
    "Ask the user if it is raining and convert their answer to lowercase so it doesn't matter what case they type it in. If they answer \"yes\", ask if it is windy. If they answer \"yes\" to this second question, display the answer \"It is too windy for an umbrella\", otherwise display the message \"Take an umbrella\". If they did not answer yes to the first question, display the answer \"Enjoy your day\"."
   ]
  },
  {
   "cell_type": "code",
   "execution_count": 5,
   "metadata": {},
   "outputs": [
    {
     "name": "stdout",
     "output_type": "stream",
     "text": [
      "Is it raining? yes\n",
      "Is it windy? YES\n",
      "It is too windy for an umbrella\n"
     ]
    }
   ],
   "source": [
    "raining = input(\"Is it raining? \")\n",
    "raining = str.lower(raining)\n",
    "\n",
    "if raining == \"yes\":\n",
    "    windy = input(\"Is it windy? \")\n",
    "    windy = str.lower(windy)\n",
    "    if windy == \"yes\":\n",
    "        print(\"It is too windy for an umbrella\")\n",
    "    else:\n",
    "        print(\"Take an umbrella\")\n",
    "else:\n",
    "    print(\"Enjoy your day\")"
   ]
  },
  {
   "cell_type": "markdown",
   "metadata": {},
   "source": [
    "# Challenge 017\n",
    "\n",
    "Ask the users age. If they are 18 or over , display the message \"You can vote\", if they are aged 17, display the message \"You can learn to drive\", if they are 16 , display the message \"You can buy a lottery ticket\", if they are under 16, display the message \"You can go trick or treating\"."
   ]
  },
  {
   "cell_type": "code",
   "execution_count": 6,
   "metadata": {},
   "outputs": [
    {
     "name": "stdout",
     "output_type": "stream",
     "text": [
      "How old are you? 12\n",
      "You can go trick or treating\n"
     ]
    }
   ],
   "source": [
    "age = int(input(\"How old are you? \"))\n",
    "\n",
    "if age >= 18:\n",
    "    print(\"You can vote\")\n",
    "elif age == 17:\n",
    "    print(\"You can learn to drive\")\n",
    "elif age == 16:\n",
    "    print(\"You can buy a lottery ticket\")\n",
    "else:\n",
    "    print(\"You can go trick or treating\")"
   ]
  },
  {
   "cell_type": "markdown",
   "metadata": {},
   "source": [
    "# Challenge 018\n",
    "\n",
    "Ask the user to enter a number. If it is under 10, display the message \"Too low\", if their number is between 10 and 20 display \"Correct\", otherwise display \"too high\""
   ]
  },
  {
   "cell_type": "code",
   "execution_count": 7,
   "metadata": {},
   "outputs": [
    {
     "name": "stdout",
     "output_type": "stream",
     "text": [
      "Enter a number: 5\n",
      "Too low\n"
     ]
    }
   ],
   "source": [
    "num = int(input(\"Enter a number: \"))\n",
    "\n",
    "if num < 10:\n",
    "    print(\"Too low\")\n",
    "elif num >= 10 and num <= 20:\n",
    "    print(\"Correct\")\n",
    "else:\n",
    "    print(\"Too high\")"
   ]
  },
  {
   "cell_type": "markdown",
   "metadata": {},
   "source": [
    "# Challenge 019\n",
    "\n",
    "Ask the user to enter 1, 2, or 3. If they enter a 1, displaythe message \"thank you\", if they enter a 2, display \"Well done\", if they enter a 3, display \"Correct\". If they enter anything else, display \"Error message\"."
   ]
  },
  {
   "cell_type": "code",
   "execution_count": 8,
   "metadata": {},
   "outputs": [
    {
     "name": "stdout",
     "output_type": "stream",
     "text": [
      "Enter a 1,2 or 3: 2\n",
      "Well done\n"
     ]
    }
   ],
   "source": [
    "num = int(input(\"Enter a 1,2 or 3: \"))\n",
    "\n",
    "if num == 1:\n",
    "    print(\"Thank you\")\n",
    "elif num == 2:\n",
    "    print(\"Well done\")\n",
    "elif num == 3:\n",
    "    print(\"Correct\")\n",
    "else:\n",
    "    print(\"Error message\")"
   ]
  },
  {
   "cell_type": "code",
   "execution_count": null,
   "metadata": {},
   "outputs": [],
   "source": []
  }
 ],
 "metadata": {
  "kernelspec": {
   "display_name": "Python 3",
   "language": "python",
   "name": "python3"
  },
  "language_info": {
   "codemirror_mode": {
    "name": "ipython",
    "version": 3
   },
   "file_extension": ".py",
   "mimetype": "text/x-python",
   "name": "python",
   "nbconvert_exporter": "python",
   "pygments_lexer": "ipython3",
   "version": "3.7.3"
  }
 },
 "nbformat": 4,
 "nbformat_minor": 2
}
