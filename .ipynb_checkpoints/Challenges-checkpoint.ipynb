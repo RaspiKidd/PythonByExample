{
 "cells": [
  {
   "cell_type": "markdown",
   "metadata": {},
   "source": [
    "# Python By Example Book Challenges\n",
    "\n",
    "## Challenge 001\n",
    "\n",
    "Ask for the user's first name and display the output message\n",
    "**Hello (First Name)**"
   ]
  },
  {
   "cell_type": "code",
   "execution_count": 1,
   "metadata": {},
   "outputs": [
    {
     "name": "stdout",
     "output_type": "stream",
     "text": [
      "Please enter your first name: Kerry\n",
      "Hello Kerry\n"
     ]
    }
   ],
   "source": [
    "firstname=input(\"Please enter your first name: \")\n",
    "\n",
    "print(\"Hello\", firstname)"
   ]
  },
  {
   "cell_type": "markdown",
   "metadata": {},
   "source": [
    "## Challenge 002\n",
    "\n",
    "Ask the user for their first name and then ask for their surname and display the output message **Hello (first name) (surname)**"
   ]
  },
  {
   "cell_type": "code",
   "execution_count": 2,
   "metadata": {},
   "outputs": [
    {
     "name": "stdout",
     "output_type": "stream",
     "text": [
      "Please enter your first name: Kerry\n",
      "Please enter your surname: Kidd\n",
      "Hello Kerry Kidd\n"
     ]
    }
   ],
   "source": [
    "firstname = input(\"Please enter your first name: \")\n",
    "surname = input(\"Please enter your surname: \")\n",
    "\n",
    "print (\"Hello\", firstname, surname)"
   ]
  },
  {
   "cell_type": "markdown",
   "metadata": {},
   "source": [
    "## Challenge 003\n",
    "\n",
    "Write code that will display the joke **\"What do you call a bear with no teeth?\"** and on the next line display the answer **\"A gummy bear!\"** Try to create it using one line of code. "
   ]
  },
  {
   "cell_type": "code",
   "execution_count": 3,
   "metadata": {},
   "outputs": [
    {
     "name": "stdout",
     "output_type": "stream",
     "text": [
      "What do you call a bear with no teeth?\n",
      "A gummy bear\n"
     ]
    }
   ],
   "source": [
    "print(\"What do you call a bear with no teeth?\\nA gummy bear\")"
   ]
  },
  {
   "cell_type": "markdown",
   "metadata": {},
   "source": [
    "## Challenge 004\n",
    "\n",
    "Ask the user to enter two numbers. Add them together and display the answer as **The total is (answer)**"
   ]
  },
  {
   "cell_type": "code",
   "execution_count": 4,
   "metadata": {},
   "outputs": [
    {
     "name": "stdout",
     "output_type": "stream",
     "text": [
      "Enter a number: 2\n",
      "Enter another number: 2\n",
      "The total is 4\n"
     ]
    }
   ],
   "source": [
    "numvalue1 = int(input(\"Enter a number: \"))\n",
    "numvalue2 = int(input(\"Enter another number: \"))\n",
    "total = numvalue1 + numvalue2\n",
    "\n",
    "print(\"The total is\", total)"
   ]
  },
  {
   "cell_type": "markdown",
   "metadata": {},
   "source": [
    "## Challenge 005\n",
    "\n",
    "Ask the user to enter three numbers. Add together the first two numbers and then multiply this total by the third number. Display the answer as **The answer is (answer)**"
   ]
  },
  {
   "cell_type": "code",
   "execution_count": 5,
   "metadata": {},
   "outputs": [
    {
     "name": "stdout",
     "output_type": "stream",
     "text": [
      "Enter a number: 2\n",
      "Enter another number: 2\n",
      "Enter a third number: 2\n",
      "The answer is 8\n"
     ]
    }
   ],
   "source": [
    "num1 = int(input(\"Enter a number: \"))\n",
    "num2 = int(input(\"Enter another number: \"))\n",
    "num3 = int(input(\"Enter a third number: \"))\n",
    "\n",
    "answer = (num1 + num2)*num3\n",
    "\n",
    "print(\"The answer is\" , answer)"
   ]
  },
  {
   "cell_type": "markdown",
   "metadata": {},
   "source": [
    "## Challenge 006\n",
    "\n",
    "Ask how many slices of pizza the user started with and ask howmany they have eaten. Workout how many slices they have left and diaplay the answer in a user-friendly format."
   ]
  },
  {
   "cell_type": "code",
   "execution_count": 6,
   "metadata": {},
   "outputs": [
    {
     "name": "stdout",
     "output_type": "stream",
     "text": [
      "How many slices of pizza? 12\n",
      "How many slices have you eaten? 5\n",
      "You have 7 slices of pizza left\n"
     ]
    }
   ],
   "source": [
    "startedWith = int(input(\"How many slices of pizza? \"))\n",
    "eaten = int(input(\"How many slices have you eaten? \"))\n",
    "left = startedWith - eaten\n",
    "\n",
    "print (\"You have\", left, \"slices of pizza left\")"
   ]
  },
  {
   "cell_type": "markdown",
   "metadata": {},
   "source": [
    "## Challenge 007\n",
    "\n",
    "Ask the user for their name and their age. Add 1 to their age and display the output **(Name) next birthday you will be (new age)**"
   ]
  },
  {
   "cell_type": "code",
   "execution_count": 7,
   "metadata": {},
   "outputs": [
    {
     "name": "stdout",
     "output_type": "stream",
     "text": [
      "What is your name? kerry\n",
      "What is your age? 31\n",
      "kerry next birthday you will be 32\n"
     ]
    }
   ],
   "source": [
    "name = input(\"What is your name? \")\n",
    "age = int(input(\"What is your age? \"))\n",
    "newAge = age + 1\n",
    "\n",
    "print(name, \"next birthday you will be\", newAge)"
   ]
  },
  {
   "cell_type": "markdown",
   "metadata": {},
   "source": [
    "## Challenge 008\n",
    "\n",
    "Ask for the total price of the bill, then ask how many diners there are. Divide the total bill by the number of diners and show how much each person must pay."
   ]
  },
  {
   "cell_type": "code",
   "execution_count": 9,
   "metadata": {},
   "outputs": [
    {
     "name": "stdout",
     "output_type": "stream",
     "text": [
      "What is the total bill?200\n",
      "How many diners? 15\n",
      "Each diner has to pay £ 13.333333333333334\n"
     ]
    }
   ],
   "source": [
    "totalBill = int(input(\"What is the total bill?\"))\n",
    "Diners = int(input(\"How many diners? \"))\n",
    "ToPay = totalBill / Diners\n",
    "\n",
    "print(\"Each diner has to pay £\", ToPay)"
   ]
  },
  {
   "cell_type": "markdown",
   "metadata": {},
   "source": [
    "## Challenge 009\n",
    "\n",
    "Write a program that will ask for a number of days and then will show howmany hours, minutes and seconds are in that number of days."
   ]
  },
  {
   "cell_type": "code",
   "execution_count": 10,
   "metadata": {},
   "outputs": [
    {
     "name": "stdout",
     "output_type": "stream",
     "text": [
      "How many days? 2\n",
      "In 2 days there are...\n",
      "48 hours\n",
      "2880 minutes\n",
      "172800 seconds\n"
     ]
    }
   ],
   "source": [
    "days = int(input(\"How many days? \"))\n",
    "hours = days * 24\n",
    "minutes = hours * 60\n",
    "seconds = minutes * 60\n",
    "\n",
    "print(\"In\", days, \"days there are...\")\n",
    "print(hours, \"hours\")\n",
    "print(minutes, \"minutes\")\n",
    "print(seconds, \"seconds\")"
   ]
  },
  {
   "cell_type": "markdown",
   "metadata": {},
   "source": [
    "## Challenge 010\n",
    "\n",
    "There are 2,204 pounds in a kilogram. Ask the user to enter a weight in kilograms and convert it to pounds."
   ]
  },
  {
   "cell_type": "code",
   "execution_count": 11,
   "metadata": {},
   "outputs": [
    {
     "name": "stdout",
     "output_type": "stream",
     "text": [
      "How many kilograms? 12\n",
      "That is 26.448 pounds\n"
     ]
    }
   ],
   "source": [
    "kilo = int(input(\"How many kilograms? \"))\n",
    "\n",
    "pounds = kilo * 2.204\n",
    "\n",
    "print(\"That is\", pounds, \"pounds\")"
   ]
  },
  {
   "cell_type": "markdown",
   "metadata": {},
   "source": [
    "## Challenge 011\n",
    "\n",
    "Task the user to enter a number over 100 and then enter a number under 10 and tell them how many times the smaller number goes into the larger number in a user-friendly format."
   ]
  },
  {
   "cell_type": "code",
   "execution_count": 12,
   "metadata": {},
   "outputs": [
    {
     "name": "stdout",
     "output_type": "stream",
     "text": [
      "Enter a number over 100: 101\n",
      "Enter a number under 10: 3\n",
      "3 goes into 101 33.666666666666664 times\n"
     ]
    }
   ],
   "source": [
    "larger = int(input(\"Enter a number over 100: \"))\n",
    "smaller = int(input(\"Enter a number under 10: \"))\n",
    "\n",
    "answer = larger / smaller\n",
    "\n",
    "print(smaller, \"goes into\", larger, answer, \"times\")"
   ]
  },
  {
   "cell_type": "markdown",
   "metadata": {},
   "source": [
    "## Challenge 012\n",
    "\n",
    "Ask for two numbers. If the first one is larger than the second, display the second number first and then the first number, otherwise show the first number first then the second number."
   ]
  },
  {
   "cell_type": "code",
   "execution_count": 1,
   "metadata": {},
   "outputs": [
    {
     "name": "stdout",
     "output_type": "stream",
     "text": [
      "Enter a number: 2\n",
      "Enter another number: 5\n",
      "2 5\n"
     ]
    }
   ],
   "source": [
    "num1 = int(input(\"Enter a number: \"))\n",
    "num2 = int(input(\"Enter another number: \"))\n",
    "\n",
    "if num1 > num2:\n",
    "    print(num2, num1)\n",
    "else:\n",
    "    print(num1, num2)"
   ]
  },
  {
   "cell_type": "markdown",
   "metadata": {},
   "source": [
    "## Challenge 013\n",
    "\n",
    "Ask the user to enter a number that is under 20. If they enter a number that is 20 or more, Display the message \"Too high\" otherwise display \"Thank you\""
   ]
  },
  {
   "cell_type": "code",
   "execution_count": 2,
   "metadata": {},
   "outputs": [
    {
     "name": "stdout",
     "output_type": "stream",
     "text": [
      "Enter a number under 20: 10\n",
      "Thank you\n"
     ]
    }
   ],
   "source": [
    "num = int(input(\"Enter a number under 20: \"))\n",
    "\n",
    "if num >= 20:\n",
    "    print(\"Too high\")\n",
    "else:\n",
    "    print(\"Thank you\")"
   ]
  },
  {
   "cell_type": "markdown",
   "metadata": {},
   "source": [
    "## Challenge 014\n",
    "\n",
    "Ask the user to enter a number between 10 and 20 (inclusive). If they enter a number within this range, display the message \"Thank you\" otherwise display the message \"Incorrect answer\"."
   ]
  },
  {
   "cell_type": "code",
   "execution_count": 3,
   "metadata": {},
   "outputs": [
    {
     "name": "stdout",
     "output_type": "stream",
     "text": [
      "Enter a number between 10 and 20:15\n",
      "Thank you\n"
     ]
    }
   ],
   "source": [
    "num = int(input(\"Enter a number between 10 and 20:\"))\n",
    "\n",
    "if num >= 10 and num <= 20:\n",
    "    print(\"Thank you\")\n",
    "else:\n",
    "    print(\"Incorrect answer\")"
   ]
  },
  {
   "cell_type": "markdown",
   "metadata": {},
   "source": [
    "## Challenge 015\n",
    "\n",
    "Ask the user to enter their favourite colour. If they enter \"red\", \"RED\" or \"Red\" display the message \"I like red too\", otherwise display the message \"I don't like (colour). I prefer red."
   ]
  },
  {
   "cell_type": "code",
   "execution_count": 4,
   "metadata": {},
   "outputs": [
    {
     "name": "stdout",
     "output_type": "stream",
     "text": [
      "What is your favourite colour? RED\n",
      "I like red too\n"
     ]
    }
   ],
   "source": [
    "colour = input(\"What is your favourite colour? \")\n",
    "\n",
    "if colour == \"red\" or colour == \"RED\" or colour == \"Red\":\n",
    "    print(\"I like red too\")\n",
    "else:\n",
    "    print (\"I don't like\", colour, \"I prefer red\")"
   ]
  },
  {
   "cell_type": "markdown",
   "metadata": {},
   "source": [
    "## Challenge 016\n",
    "\n",
    "Ask the user if it is raining and convert their answer to lowercase so it doesn't matter what case they type it in. If they answer \"yes\", ask if it is windy. If they answer \"yes\" to this second question, display the answer \"It is too windy for an umbrella\", otherwise display the message \"Take an umbrella\". If they did not answer yes to the first question, display the answer \"Enjoy your day\"."
   ]
  },
  {
   "cell_type": "code",
   "execution_count": 5,
   "metadata": {},
   "outputs": [
    {
     "name": "stdout",
     "output_type": "stream",
     "text": [
      "Is it raining? yes\n",
      "Is it windy? YES\n",
      "It is too windy for an umbrella\n"
     ]
    }
   ],
   "source": [
    "raining = input(\"Is it raining? \")\n",
    "raining = str.lower(raining)\n",
    "\n",
    "if raining == \"yes\":\n",
    "    windy = input(\"Is it windy? \")\n",
    "    windy = str.lower(windy)\n",
    "    if windy == \"yes\":\n",
    "        print(\"It is too windy for an umbrella\")\n",
    "    else:\n",
    "        print(\"Take an umbrella\")\n",
    "else:\n",
    "    print(\"Enjoy your day\")"
   ]
  },
  {
   "cell_type": "markdown",
   "metadata": {},
   "source": [
    "## Challenge 017\n",
    "\n",
    "Ask the users age. If they are 18 or over , display the message \"You can vote\", if they are aged 17, display the message \"You can learn to drive\", if they are 16 , display the message \"You can buy a lottery ticket\", if they are under 16, display the message \"You can go trick or treating\"."
   ]
  },
  {
   "cell_type": "code",
   "execution_count": 6,
   "metadata": {},
   "outputs": [
    {
     "name": "stdout",
     "output_type": "stream",
     "text": [
      "How old are you? 12\n",
      "You can go trick or treating\n"
     ]
    }
   ],
   "source": [
    "age = int(input(\"How old are you? \"))\n",
    "\n",
    "if age >= 18:\n",
    "    print(\"You can vote\")\n",
    "elif age == 17:\n",
    "    print(\"You can learn to drive\")\n",
    "elif age == 16:\n",
    "    print(\"You can buy a lottery ticket\")\n",
    "else:\n",
    "    print(\"You can go trick or treating\")"
   ]
  },
  {
   "cell_type": "markdown",
   "metadata": {},
   "source": [
    "## Challenge 018\n",
    "\n",
    "Ask the user to enter a number. If it is under 10, display the message \"Too low\", if their number is between 10 and 20 display \"Correct\", otherwise display \"too high\""
   ]
  },
  {
   "cell_type": "code",
   "execution_count": 7,
   "metadata": {},
   "outputs": [
    {
     "name": "stdout",
     "output_type": "stream",
     "text": [
      "Enter a number: 5\n",
      "Too low\n"
     ]
    }
   ],
   "source": [
    "num = int(input(\"Enter a number: \"))\n",
    "\n",
    "if num < 10:\n",
    "    print(\"Too low\")\n",
    "elif num >= 10 and num <= 20:\n",
    "    print(\"Correct\")\n",
    "else:\n",
    "    print(\"Too high\")"
   ]
  },
  {
   "cell_type": "markdown",
   "metadata": {},
   "source": [
    "## Challenge 019\n",
    "\n",
    "Ask the user to enter 1, 2, or 3. If they enter a 1, displaythe message \"thank you\", if they enter a 2, display \"Well done\", if they enter a 3, display \"Correct\". If they enter anything else, display \"Error message\"."
   ]
  },
  {
   "cell_type": "code",
   "execution_count": 8,
   "metadata": {},
   "outputs": [
    {
     "name": "stdout",
     "output_type": "stream",
     "text": [
      "Enter a 1,2 or 3: 2\n",
      "Well done\n"
     ]
    }
   ],
   "source": [
    "num = int(input(\"Enter a 1,2 or 3: \"))\n",
    "\n",
    "if num == 1:\n",
    "    print(\"Thank you\")\n",
    "elif num == 2:\n",
    "    print(\"Well done\")\n",
    "elif num == 3:\n",
    "    print(\"Correct\")\n",
    "else:\n",
    "    print(\"Error message\")"
   ]
  },
  {
   "cell_type": "markdown",
   "metadata": {},
   "source": [
    "## Challenge 020\n",
    "\n",
    "Ask the user to enter their first name and then display the length of their name."
   ]
  },
  {
   "cell_type": "code",
   "execution_count": 1,
   "metadata": {},
   "outputs": [
    {
     "name": "stdout",
     "output_type": "stream",
     "text": [
      "Enter your name: Kerry\n",
      "5\n"
     ]
    }
   ],
   "source": [
    "name = input(\"Enter your name: \")\n",
    "\n",
    "length = len(name)\n",
    "\n",
    "print(length)"
   ]
  },
  {
   "cell_type": "markdown",
   "metadata": {},
   "source": [
    "## Challenge 021\n",
    "Ask the user to enter their first name and then ask them to enter their surname. join them together with a space between and display the name and the length of whole name."
   ]
  },
  {
   "cell_type": "code",
   "execution_count": 2,
   "metadata": {},
   "outputs": [
    {
     "name": "stdout",
     "output_type": "stream",
     "text": [
      "Enter your first name: Kerry\n",
      "Enter your surnname: Kidd\n",
      "Kerry Kidd\n",
      "10\n"
     ]
    }
   ],
   "source": [
    "firstname = input(\"Enter your first name: \")\n",
    "surname = input(\"Enter your surnname: \")\n",
    "\n",
    "name = firstname + \" \" + surname\n",
    "length = len(name)\n",
    "\n",
    "print(name)\n",
    "print(length)"
   ]
  },
  {
   "cell_type": "markdown",
   "metadata": {},
   "source": [
    "## Challenge 022\n",
    "\n",
    "Ask the user to enter their first name and surname in lowercase. Change the case to title case and join them together. Display the finished result."
   ]
  },
  {
   "cell_type": "code",
   "execution_count": 3,
   "metadata": {},
   "outputs": [
    {
     "name": "stdout",
     "output_type": "stream",
     "text": [
      "Enter your first name in lowercase: kerry\n",
      "Enter your surname in lowercase: kidd\n",
      "Kerry Kidd\n"
     ]
    }
   ],
   "source": [
    "firstname = input(\"Enter your first name in lowercase: \")\n",
    "surname = input(\"Enter your surname in lowercase: \")\n",
    "\n",
    "name = firstname + \" \" + surname\n",
    "\n",
    "print (name.title())"
   ]
  },
  {
   "cell_type": "markdown",
   "metadata": {},
   "source": [
    "## Challenge 023\n",
    "\n",
    "Ask the user to type in the first line of a nursery rhyme and display the length of the string. Ask for a starting number and an ending number and then display just that selection of the text (python starts counting at 0)."
   ]
  },
  {
   "cell_type": "code",
   "execution_count": 4,
   "metadata": {},
   "outputs": [
    {
     "name": "stdout",
     "output_type": "stream",
     "text": [
      "enter a line from a nursery rhyme: humpty dumpty sat on a wall\n",
      "this has 27 letters in it\n",
      "Enter a starting number: 3\n",
      "Enter a end number: 9\n",
      "pty du\n"
     ]
    }
   ],
   "source": [
    "rhyme = input(\"enter a line from a nursery rhyme: \")\n",
    "\n",
    "length = len(rhyme)\n",
    "\n",
    "print(\"this has\", length, \"letters in it\")\n",
    "\n",
    "start = int(input(\"Enter a starting number: \"))\n",
    "end = int(input(\"Enter a end number: \"))\n",
    "\n",
    "print(rhyme [start:end])"
   ]
  },
  {
   "cell_type": "markdown",
   "metadata": {},
   "source": [
    "## Challenge 024\n",
    "\n",
    "Ask the user to type in any word and display it in uppercase."
   ]
  },
  {
   "cell_type": "code",
   "execution_count": 5,
   "metadata": {},
   "outputs": [
    {
     "name": "stdout",
     "output_type": "stream",
     "text": [
      "enter any word: Hello\n",
      "HELLO\n"
     ]
    }
   ],
   "source": [
    "word = input(\"enter any word: \")\n",
    "\n",
    "print(word.upper())"
   ]
  },
  {
   "cell_type": "markdown",
   "metadata": {},
   "source": [
    "## Challenge 025\n",
    "\n",
    "Ask the user to enter their first name. If the length of their first name is under 5 characters, ask them to enter their surname and join them together (without a space) and display the name in uppercase. If the length of the first name is 5 characters or more display their first name in lowercase."
   ]
  },
  {
   "cell_type": "code",
   "execution_count": 7,
   "metadata": {},
   "outputs": [
    {
     "name": "stdout",
     "output_type": "stream",
     "text": [
      "Enter your first name: kidd\n",
      "Enter your surname: kerry\n",
      "KIDDKERRY\n"
     ]
    }
   ],
   "source": [
    "firstname = input(\"Enter your first name: \")\n",
    "\n",
    "if len(firstname) < 5:\n",
    "    surname = input(\"Enter your surname: \")\n",
    "    name = firstname+surname\n",
    "    print(name.upper())\n",
    "else:\n",
    "    print(firstname.lower())"
   ]
  },
  {
   "cell_type": "markdown",
   "metadata": {},
   "source": [
    "## Challenge 026\n",
    "\n",
    "Pig latin takes the first consonant of a word, moves it to the end of the word and adds on an \"ay\". If a word begins with a vowel you just add \"way\" to the end. For example, pig becomes igpay, banana becomes ananabay, and aadvark becomes aadvarkway. Create a program that will ask the user to enter a word and change it into Pig Latin. Make sure the new word is displayed in lowercase."
   ]
  },
  {
   "cell_type": "code",
   "execution_count": 9,
   "metadata": {},
   "outputs": [
    {
     "name": "stdout",
     "output_type": "stream",
     "text": [
      "Enter a word: Hello\n",
      "ellohay\n"
     ]
    }
   ],
   "source": [
    "word = input(\"Enter a word: \")\n",
    "\n",
    "first = word[0]\n",
    "length = len(word)\n",
    "rest = word [1:length]\n",
    "\n",
    "if first != \"a\" and first != \"e\" and first != \"i\" and first != \"o\" and first != \"u\":\n",
    "    newWord = rest + first + \"ay\"\n",
    "else:\n",
    "    newWord = word + \"way\"\n",
    "\n",
    "\n",
    "print(newWord.lower())"
   ]
  },
  {
   "cell_type": "markdown",
   "metadata": {},
   "source": [
    "## Challenge 027\n",
    "\n",
    "Ask the user to enter a number with lots of decimal places. Multiply this number by 2 and display the answer."
   ]
  },
  {
   "cell_type": "code",
   "execution_count": 1,
   "metadata": {},
   "outputs": [
    {
     "name": "stdout",
     "output_type": "stream",
     "text": [
      "Enter a number with alot of decimal places: 2.34578766554475687568\n",
      "4.691575331089513\n"
     ]
    }
   ],
   "source": [
    "num = float(input(\"Enter a number with alot of decimal places: \"))\n",
    "\n",
    "print(num*2)"
   ]
  },
  {
   "cell_type": "markdown",
   "metadata": {},
   "source": [
    "## Challenge 028\n",
    "\n",
    "Update program 27 so that it will display the answer to two decimal places."
   ]
  },
  {
   "cell_type": "code",
   "execution_count": 2,
   "metadata": {},
   "outputs": [
    {
     "name": "stdout",
     "output_type": "stream",
     "text": [
      "Enter a number with alot of decimal places: 2.345475665876756654345432\n",
      "4.69\n"
     ]
    }
   ],
   "source": [
    "num = float(input(\"Enter a number with alot of decimal places: \"))\n",
    "answer = num*2\n",
    "\n",
    "print(round(answer, 2))"
   ]
  },
  {
   "cell_type": "markdown",
   "metadata": {},
   "source": [
    "## Challenge 029\n",
    "\n",
    "Ask the user to enter an integer that is over 500. Work out the square root of that number and display it to two decimal places."
   ]
  },
  {
   "cell_type": "code",
   "execution_count": 3,
   "metadata": {},
   "outputs": [
    {
     "name": "stdout",
     "output_type": "stream",
     "text": [
      "Enter a number over 500:550\n",
      "23.45\n"
     ]
    }
   ],
   "source": [
    "import math\n",
    "\n",
    "num = int(input(\"Enter a number over 500:\" ))\n",
    "\n",
    "num = math.sqrt(num)\n",
    "\n",
    "print (round(num, 2))"
   ]
  },
  {
   "cell_type": "markdown",
   "metadata": {},
   "source": [
    "## Challenge 030\n",
    "\n",
    "Display pi to five decimal places"
   ]
  },
  {
   "cell_type": "code",
   "execution_count": 4,
   "metadata": {},
   "outputs": [
    {
     "name": "stdout",
     "output_type": "stream",
     "text": [
      "3.14159\n"
     ]
    }
   ],
   "source": [
    "import math\n",
    "\n",
    "print (round(math.pi, 5))"
   ]
  },
  {
   "cell_type": "markdown",
   "metadata": {},
   "source": [
    "## Challenge 031\n",
    "\n",
    "Ask the user to enter the radius of a circle (measurement from the centre point to the edge). Work out the area of the circle."
   ]
  },
  {
   "cell_type": "code",
   "execution_count": 5,
   "metadata": {},
   "outputs": [
    {
     "name": "stdout",
     "output_type": "stream",
     "text": [
      "Enter the radius of a circle: 4\n",
      "50.26548245743669\n"
     ]
    }
   ],
   "source": [
    "import math\n",
    "\n",
    "radius = int(input(\"Enter the radius of a circle: \"))\n",
    "\n",
    "area = math.pi*(radius**2)\n",
    "\n",
    "print (area)"
   ]
  },
  {
   "cell_type": "markdown",
   "metadata": {},
   "source": [
    "## Challenge 032\n",
    "\n",
    "Ask for the radius and the depth of a cylinder and workout the total volume (circle area * depth) rounded to three decimal places"
   ]
  },
  {
   "cell_type": "code",
   "execution_count": 6,
   "metadata": {},
   "outputs": [
    {
     "name": "stdout",
     "output_type": "stream",
     "text": [
      "Enter the radius of a cylinder: 4\n",
      "Enter the depth of a cylinder: 2\n",
      "100.531\n"
     ]
    }
   ],
   "source": [
    "import math\n",
    "\n",
    "radius = int(input(\"Enter the radius of a cylinder: \"))\n",
    "depth = int(input(\"Enter the depth of a cylinder: \"))\n",
    "\n",
    "area = math.pi*(radius**2)\n",
    "volume = area * depth\n",
    "\n",
    "print (round(volume, 3))"
   ]
  },
  {
   "cell_type": "markdown",
   "metadata": {},
   "source": [
    "## Challenge 033\n",
    "\n",
    "Ask the user to enter two numbers. Use whole number division to divide the first number by the second number and also work out the remainder and display the answer in a user friendly way. (if they enter 7  and 2 display 7 divided by 2 is 3 with 1 remaining)"
   ]
  },
  {
   "cell_type": "code",
   "execution_count": 7,
   "metadata": {},
   "outputs": [
    {
     "name": "stdout",
     "output_type": "stream",
     "text": [
      "Enter a number: 9\n",
      "Enter another number: 4\n",
      "9 divided by 4 is 2 with 1 remaining\n"
     ]
    }
   ],
   "source": [
    "num1 = int(input(\"Enter a number: \"))\n",
    "num2 = int(input(\"Enter another number: \"))\n",
    "\n",
    "divide = num1 // num2\n",
    "remainder = num1 % num2\n",
    "\n",
    "print (num1, \"divided by\", num2, \"is\", divide, \"with\", remainder, \"remaining\")"
   ]
  },
  {
   "cell_type": "markdown",
   "metadata": {},
   "source": [
    "## Challenge 034\n",
    "Display the following message:\n",
    "\n",
    "**1) Square**\n",
    "\n",
    "**2) Triangle**\n",
    "\n",
    "**Enter a number:**\n",
    "\n",
    "If the user enters 1, then it should ask them for the length of one of its sides and display the area. If they select 2, it should ask for the base and height of the triangle and display the area. If they type in anything else it should give them a suitable error message."
   ]
  },
  {
   "cell_type": "code",
   "execution_count": 8,
   "metadata": {},
   "outputs": [
    {
     "name": "stdout",
     "output_type": "stream",
     "text": [
      "1) Square\n",
      "2) Triangle\n",
      "\n",
      "Enter a number: 1\n",
      "Enter the length of one side: 3\n",
      "The area of the square is 9\n"
     ]
    }
   ],
   "source": [
    "print(\"1) Square\")\n",
    "print(\"2) Triangle\")\n",
    "print()\n",
    "\n",
    "menuSelection = int(input(\"Enter a number: \"))\n",
    "\n",
    "if menuSelection == 1:\n",
    "    side = int(input(\"Enter the length of one side: \"))\n",
    "    area = side*side\n",
    "    print(\"The area of the square is\", area)\n",
    "elif menuSelection == 2:\n",
    "    base = int(input(\"Enter the length of the base: \"))\n",
    "    height = int(input(\"Enter the height of the triangle: \"))\n",
    "    area = (base*height)/2\n",
    "    print(\"The area of the triangle is\", area)\n",
    "else:\n",
    "    print(\"Incorrect option selected\")"
   ]
  },
  {
   "cell_type": "markdown",
   "metadata": {},
   "source": [
    "## Challenge 035\n",
    "\n",
    "Ask the user to enter their name and then display their name three times."
   ]
  },
  {
   "cell_type": "code",
   "execution_count": 9,
   "metadata": {},
   "outputs": [
    {
     "name": "stdout",
     "output_type": "stream",
     "text": [
      "What is your name? Kerry\n",
      "Kerry\n",
      "Kerry\n",
      "Kerry\n"
     ]
    }
   ],
   "source": [
    "name = input(\"What is your name? \")\n",
    "\n",
    "for i in range (0,3):\n",
    "    print(name)"
   ]
  },
  {
   "cell_type": "markdown",
   "metadata": {},
   "source": [
    "## Challenge 036\n",
    "\n",
    "Alter program 35 so that it will ask the user to enter their name and a number and then display their name that number of times."
   ]
  },
  {
   "cell_type": "code",
   "execution_count": 10,
   "metadata": {},
   "outputs": [
    {
     "name": "stdout",
     "output_type": "stream",
     "text": [
      "What is your name? Kerry\n",
      "Enter a number: 4\n",
      "Kerry\n",
      "Kerry\n",
      "Kerry\n",
      "Kerry\n"
     ]
    }
   ],
   "source": [
    "name = input(\"What is your name? \")\n",
    "num = int (input(\"Enter a number: \"))\n",
    "\n",
    "for i in range (0,num):\n",
    "    print(name)"
   ]
  },
  {
   "cell_type": "markdown",
   "metadata": {},
   "source": [
    "## Challenge 037\n",
    "\n",
    "Ask the user to enter their name and display each letter in their name on a seperate line."
   ]
  },
  {
   "cell_type": "code",
   "execution_count": 11,
   "metadata": {},
   "outputs": [
    {
     "name": "stdout",
     "output_type": "stream",
     "text": [
      "What is your name? kerry\n",
      "k\n",
      "e\n",
      "r\n",
      "r\n",
      "y\n"
     ]
    }
   ],
   "source": [
    "name = input(\"What is your name? \")\n",
    "\n",
    "for i in name:\n",
    "    print(i)"
   ]
  },
  {
   "cell_type": "markdown",
   "metadata": {},
   "source": [
    "## Challenge 038\n",
    "\n",
    "Change program 37 to also ask for a number. Display their name (one letter at a time on each line) and repeat this for the number of times they entered."
   ]
  },
  {
   "cell_type": "code",
   "execution_count": 12,
   "metadata": {},
   "outputs": [
    {
     "name": "stdout",
     "output_type": "stream",
     "text": [
      "What is your name? kerry\n",
      "Enter a number: 2\n",
      "k\n",
      "e\n",
      "r\n",
      "r\n",
      "y\n",
      "k\n",
      "e\n",
      "r\n",
      "r\n",
      "y\n"
     ]
    }
   ],
   "source": [
    "name = input(\"What is your name? \")\n",
    "num = int (input(\"Enter a number: \"))\n",
    "\n",
    "for x in range(0, num):\n",
    "    for i in name:\n",
    "        print(i)"
   ]
  },
  {
   "cell_type": "markdown",
   "metadata": {},
   "source": [
    "## Challenge 039\n",
    "\n",
    "Ask the user to enter a number between 1 and 12 and ten display the times table for that number."
   ]
  },
  {
   "cell_type": "code",
   "execution_count": 13,
   "metadata": {},
   "outputs": [
    {
     "name": "stdout",
     "output_type": "stream",
     "text": [
      "Enter a number: 4\n",
      "1 x 4 = 4\n",
      "2 x 4 = 8\n",
      "3 x 4 = 12\n",
      "4 x 4 = 16\n",
      "5 x 4 = 20\n",
      "6 x 4 = 24\n",
      "7 x 4 = 28\n",
      "8 x 4 = 32\n",
      "9 x 4 = 36\n",
      "10 x 4 = 40\n",
      "11 x 4 = 44\n"
     ]
    }
   ],
   "source": [
    "num = int (input(\"Enter a number: \"))\n",
    "\n",
    "for i in range(1,12):\n",
    "    answer = i * num\n",
    "    print(i, \"x\", num, \"=\", answer)"
   ]
  },
  {
   "cell_type": "markdown",
   "metadata": {},
   "source": [
    "## Challenge 040\n",
    "\n",
    "Ask for a number below 50 and then count down from 50 to that number, making sure you show the number they entered in the output."
   ]
  },
  {
   "cell_type": "code",
   "execution_count": 14,
   "metadata": {},
   "outputs": [
    {
     "name": "stdout",
     "output_type": "stream",
     "text": [
      "Enter a number less than 50: 40\n",
      "50\n",
      "49\n",
      "48\n",
      "47\n",
      "46\n",
      "45\n",
      "44\n",
      "43\n",
      "42\n",
      "41\n",
      "40\n"
     ]
    }
   ],
   "source": [
    "num = int (input(\"Enter a number less than 50: \"))\n",
    "\n",
    "for i in range(50, num-1, -1):\n",
    "    print(i)"
   ]
  },
  {
   "cell_type": "markdown",
   "metadata": {},
   "source": [
    "## Challenge 041\n",
    "Ask the user to enter their name and a number. If the number is less than 10, then display their name that number of times; otherwise dislay the message \"Too high\" three times.\n"
   ]
  },
  {
   "cell_type": "code",
   "execution_count": 15,
   "metadata": {},
   "outputs": [
    {
     "name": "stdout",
     "output_type": "stream",
     "text": [
      "What is your name? kerry\n",
      "Enter a number: 5\n",
      "kerry\n",
      "kerry\n",
      "kerry\n",
      "kerry\n",
      "kerry\n"
     ]
    }
   ],
   "source": [
    "name = input(\"What is your name? \")\n",
    "num = int (input(\"Enter a number: \"))\n",
    "\n",
    "if num < 10:\n",
    "    for i in range(0, num):\n",
    "        print(name)\n",
    "else:\n",
    "    for i in range(0, 3):\n",
    "        print(\"Too high\")"
   ]
  },
  {
   "cell_type": "markdown",
   "metadata": {},
   "source": [
    "## Challenge 042\n",
    "\n",
    "Set a variable called total to 0. Ask the user to enter five numbers five numbers and after each input ask them if they want that number included. If they do, then add the number to the total. If they don not want it included, don't add it to the total. After they have entered all five numbers display the total."
   ]
  },
  {
   "cell_type": "code",
   "execution_count": 16,
   "metadata": {},
   "outputs": [
    {
     "name": "stdout",
     "output_type": "stream",
     "text": [
      "Enter a number: 2\n",
      "Do you want this number included? (y/n) y\n",
      "Enter a number: 3\n",
      "Do you want this number included? (y/n) y\n",
      "Enter a number: 3\n",
      "Do you want this number included? (y/n) n\n",
      "Enter a number: 2\n",
      "Do you want this number included? (y/n) n\n",
      "Enter a number: 5\n",
      "Do you want this number included? (y/n) y\n",
      "10\n"
     ]
    }
   ],
   "source": [
    "total = 0\n",
    "\n",
    "for i in range (0,5):\n",
    "    num = int(input(\"Enter a number: \"))\n",
    "    ans = input(\"Do you want this number included? (y/n) \")\n",
    "    if ans == \"y\":\n",
    "        total = total + num\n",
    "print(total)"
   ]
  },
  {
   "cell_type": "markdown",
   "metadata": {},
   "source": [
    "## Challenge 043\n",
    "\n",
    "Ask which direction the user wants to count (up or down). If they select up then ask them for the top number and then count from 1 to that number. If they select down, ask them to select a number below 20 and then count down from 20 to that number, if they entered something other than up or down display the message \"I don't understand\"."
   ]
  },
  {
   "cell_type": "code",
   "execution_count": 17,
   "metadata": {},
   "outputs": [
    {
     "name": "stdout",
     "output_type": "stream",
     "text": [
      "would you like to count up or down? (u/d) u\n",
      "Enter a number to count up to: 20\n",
      "1\n",
      "2\n",
      "3\n",
      "4\n",
      "5\n",
      "6\n",
      "7\n",
      "8\n",
      "9\n",
      "10\n",
      "11\n",
      "12\n",
      "13\n",
      "14\n",
      "15\n",
      "16\n",
      "17\n",
      "18\n",
      "19\n",
      "20\n"
     ]
    }
   ],
   "source": [
    "direction = input(\"would you like to count up or down? (u/d) \")\n",
    "\n",
    "if direction == \"u\":\n",
    "    num = int(input(\"Enter a number to count up to: \"))\n",
    "    for i in range(1, num+1):\n",
    "        print(i)\n",
    "elif direction == \"d\":\n",
    "    num = int(input(\"Enter a number below 20: \"))\n",
    "    for i in range(20,num-1, -1):\n",
    "        print(i)\n",
    "else:\n",
    "    print(\"I don't understand\")"
   ]
  },
  {
   "cell_type": "markdown",
   "metadata": {},
   "source": [
    "## Challenge 044\n",
    "\n",
    "Ask how many people the user wants to invite to a party. If they enter a number below 10. ask for the names and after each name display \"(name) has to be invited to the party\". If they enter a number which is 10 or higher display the message \"Too many people\"."
   ]
  },
  {
   "cell_type": "code",
   "execution_count": 18,
   "metadata": {},
   "outputs": [
    {
     "name": "stdout",
     "output_type": "stream",
     "text": [
      "How many people are coming to the party? 20\n",
      "Too many people\n"
     ]
    }
   ],
   "source": [
    "invite = int(input(\"How many people are coming to the party? \"))\n",
    "\n",
    "if invite < 10:\n",
    "    for i in range (0, invite):\n",
    "        name = input(\"what is their name? \")\n",
    "        print(name, \"has been invited\")\n",
    "else:\n",
    "    print(\"Too many people\")"
   ]
  },
  {
   "cell_type": "markdown",
   "metadata": {},
   "source": [
    "## Challenge 045\n",
    "\n",
    "Set the total to 0 to start with. While the total is 50 or less ask the user to input a number. Add that number to the total and print the message **\"The total is..... (total)\". Stop the loop when the total is over 50.**"
   ]
  },
  {
   "cell_type": "code",
   "execution_count": 10,
   "metadata": {},
   "outputs": [
    {
     "name": "stdout",
     "output_type": "stream",
     "text": [
      "Enter a number: 3\n",
      "The total is... 3\n",
      "Enter a number: 5\n",
      "The total is... 8\n",
      "Enter a number: 60\n",
      "The total is... 68\n"
     ]
    }
   ],
   "source": [
    "total = 0\n",
    "\n",
    "while total <= 50:\n",
    "    num = int(input(\"Enter a number: \"))\n",
    "    total = total + num\n",
    "    print(\"The total is...\", total)"
   ]
  },
  {
   "cell_type": "markdown",
   "metadata": {},
   "source": [
    "## Challenge 046\n",
    "\n",
    "Ask the user to enter a number. Keep asking until they enter a value over 5 and then display the message **\"The last number you entered was (number)\"** ands stop the program.\n"
   ]
  },
  {
   "cell_type": "code",
   "execution_count": 11,
   "metadata": {},
   "outputs": [
    {
     "name": "stdout",
     "output_type": "stream",
     "text": [
      "Enter a number: 4\n",
      "Enter a number: 5\n",
      "Enter a number: 7\n",
      "The last number you entered was 7\n"
     ]
    }
   ],
   "source": [
    "num = 0\n",
    "\n",
    "while num <= 5:\n",
    "    num = int(input(\"Enter a number: \"))\n",
    "print (\"The last number you entered was\", num)"
   ]
  },
  {
   "cell_type": "markdown",
   "metadata": {},
   "source": [
    "## Challenge 047\n",
    "\n",
    "Ask the user to enter a number and then enter another number. Add these two numbers together and then ask if they want to add another number. If they enter \"y\", ask them to enter another number and keep adding numbers until they do not answer \"y\". Once the loop has stopped, display the total."
   ]
  },
  {
   "cell_type": "code",
   "execution_count": 12,
   "metadata": {},
   "outputs": [
    {
     "name": "stdout",
     "output_type": "stream",
     "text": [
      "Enter a number: 3\n",
      "Enter another number: 2\n",
      "Would you like to add another number? (y/n)y\n",
      "Enter another number: 4\n",
      "Would you like to add another number? (y/n)n\n",
      "The total is 9\n"
     ]
    }
   ],
   "source": [
    "num1 = int(input(\"Enter a number: \"))\n",
    "total = num1\n",
    "again = \"y\"\n",
    "\n",
    "while again == \"y\":\n",
    "    num2 = int(input(\"Enter another number: \"))\n",
    "    total = total + num2\n",
    "    again = input(\"Would you like to add another number? (y/n)\")\n",
    "print (\"The total is\", total)"
   ]
  },
  {
   "cell_type": "markdown",
   "metadata": {},
   "source": [
    "## Challenge 048 \n",
    "\n",
    "Ask for the name of somebody the user wants to invite to a party. After this, display the message **\"(name) has now been invited\"** and add 1 to the count. Then ask if they want to invite somebody else. Keep repeating this until they no longer want to invite anyone else to the party. and then display how many people they have coming to the party."
   ]
  },
  {
   "cell_type": "code",
   "execution_count": 14,
   "metadata": {},
   "outputs": [
    {
     "name": "stdout",
     "output_type": "stream",
     "text": [
      "Who do you want to invite to the party Paul\n",
      "Would you like to invite another person? (y/n)y\n",
      "Who do you want to invite to the party David\n",
      "Would you like to invite another person? (y/n)y\n",
      "Who do you want to invite to the party Nat\n",
      "Would you like to invite another person? (y/n)n\n",
      "You have 3 People coming to your party\n"
     ]
    }
   ],
   "source": [
    "count = 0\n",
    "again = \"y\"\n",
    "\n",
    "while again == \"y\":\n",
    "    name = input(\"Who do you want to invite to the party \")\n",
    "    count = count + 1\n",
    "    again = input(\"Would you like to invite another person? (y/n)\")\n",
    "print (\"You have\", count, \"People coming to your party\")"
   ]
  },
  {
   "cell_type": "markdown",
   "metadata": {},
   "source": [
    "## Challenge 049\n",
    "\n",
    "Create a variable called compNum and set the value to 50. Ask the user to enter a number. While their guess is not equal to the compNum tell them if there guess is too low or too and ask them to have another go. If they enter the same value as compNum, display the message **\"Well done, you took (count) attempts\".**"
   ]
  },
  {
   "cell_type": "code",
   "execution_count": 15,
   "metadata": {},
   "outputs": [
    {
     "name": "stdout",
     "output_type": "stream",
     "text": [
      "Can you guess the number I am thinking of? 10\n",
      "Too Low\n",
      "have another guess: 100\n",
      "Too High\n",
      "have another guess: 50\n",
      "Well done, you took 2 attempts\n"
     ]
    }
   ],
   "source": [
    "count = 0\n",
    "compNum = 50\n",
    "guess = int(input(\"Can you guess the number I am thinking of? \"))\n",
    "\n",
    "while guess != compNum:\n",
    "    if guess < compNum:\n",
    "        print (\"Too Low\")\n",
    "    else:\n",
    "        print (\"Too High\")\n",
    "    count = count + 1\n",
    "    guess = int(input(\"have another guess: \"))\n",
    "print (\"Well done, you took\", count, \"attempts\")"
   ]
  },
  {
   "cell_type": "markdown",
   "metadata": {},
   "source": [
    "## Challenge 050 \n",
    "\n",
    "Ask the user to enter a number between 10 and 20. If they enter a value under 10 display the message **\"Too Low\"** and ask them to try again. If they enter a value above 20, display the message **\"Too high\"** and ask them to try again. Keep repeating this until they enter a value between 10 and 20 and then display the message **\"Thank you\"**."
   ]
  },
  {
   "cell_type": "code",
   "execution_count": 18,
   "metadata": {},
   "outputs": [
    {
     "name": "stdout",
     "output_type": "stream",
     "text": [
      "Enter a number between 10 and 20: 2\n",
      "Too Low\n",
      "Try again: 22\n",
      "Too High\n",
      "Try again: 12\n",
      "Thank you\n"
     ]
    }
   ],
   "source": [
    "num = int(input(\"Enter a number between 10 and 20: \"))\n",
    "\n",
    "while num < 10 or num > 20:\n",
    "    if num < 10:\n",
    "        print (\"Too Low\")\n",
    "    else:\n",
    "        print (\"Too High\")\n",
    "    num = int(input(\"Try again: \"))\n",
    "print (\"Thank you\")"
   ]
  },
  {
   "cell_type": "markdown",
   "metadata": {},
   "source": [
    "## Challenge 051\n",
    "\n",
    "Using the song \"10 green bottles\", display the lines **\"There are (num) green bottles hanging on the wall, (num) green bottles hanging on the wall, and if one green bottle should accidentally fall\".** Then ask the question **\"How many green bottles will be hanging on the wall?\"** If the user answers correctly display the message **\"There will be (num) green bottles hanging on the wall\".** If they answer incorrectly display the message **\"No, try again\"** until they get it right. When the number of green bottles gets down to 0, display the message **\"There are no more green bottles hanging on the wall\".**"
   ]
  },
  {
   "cell_type": "code",
   "execution_count": 19,
   "metadata": {},
   "outputs": [
    {
     "name": "stdout",
     "output_type": "stream",
     "text": [
      "There are 10 green bottles hanging on the wall.\n",
      "10 green bottles hanging on the wall.\n",
      "If one green bottle were to accidentally fall,\n",
      "How many green bottles will be hanging on the wall? 9\n",
      "There will be 9 green bottles hanging on the wall\n",
      "There are 9 green bottles hanging on the wall.\n",
      "9 green bottles hanging on the wall.\n",
      "If one green bottle were to accidentally fall,\n",
      "How many green bottles will be hanging on the wall? 3\n",
      "No, try again: 8\n",
      "There are 8 green bottles hanging on the wall.\n",
      "8 green bottles hanging on the wall.\n",
      "If one green bottle were to accidentally fall,\n",
      "How many green bottles will be hanging on the wall? 7\n",
      "There will be 7 green bottles hanging on the wall\n",
      "There are 7 green bottles hanging on the wall.\n",
      "7 green bottles hanging on the wall.\n",
      "If one green bottle were to accidentally fall,\n",
      "How many green bottles will be hanging on the wall? 6\n",
      "There will be 6 green bottles hanging on the wall\n",
      "There are 6 green bottles hanging on the wall.\n",
      "6 green bottles hanging on the wall.\n",
      "If one green bottle were to accidentally fall,\n",
      "How many green bottles will be hanging on the wall? 5\n",
      "There will be 5 green bottles hanging on the wall\n",
      "There are 5 green bottles hanging on the wall.\n",
      "5 green bottles hanging on the wall.\n",
      "If one green bottle were to accidentally fall,\n",
      "How many green bottles will be hanging on the wall? 4\n",
      "There will be 4 green bottles hanging on the wall\n",
      "There are 4 green bottles hanging on the wall.\n",
      "4 green bottles hanging on the wall.\n",
      "If one green bottle were to accidentally fall,\n",
      "How many green bottles will be hanging on the wall? 3\n",
      "There will be 3 green bottles hanging on the wall\n",
      "There are 3 green bottles hanging on the wall.\n",
      "3 green bottles hanging on the wall.\n",
      "If one green bottle were to accidentally fall,\n",
      "How many green bottles will be hanging on the wall? 2\n",
      "There will be 2 green bottles hanging on the wall\n",
      "There are 2 green bottles hanging on the wall.\n",
      "2 green bottles hanging on the wall.\n",
      "If one green bottle were to accidentally fall,\n",
      "How many green bottles will be hanging on the wall? 1\n",
      "There will be 1 green bottles hanging on the wall\n",
      "There are 1 green bottles hanging on the wall.\n",
      "1 green bottles hanging on the wall.\n",
      "If one green bottle were to accidentally fall,\n",
      "How many green bottles will be hanging on the wall? 0\n",
      "There will be 0 green bottles hanging on the wall\n",
      "There are no more green bottles hanging on the wall\n"
     ]
    }
   ],
   "source": [
    "num = 10\n",
    "\n",
    "while num > 0:\n",
    "    print (\"There are\", num, \"green bottles hanging on the wall.\")\n",
    "    print (num, \"green bottles hanging on the wall.\")\n",
    "    print (\"If one green bottle were to accidentally fall,\")\n",
    "    num = num - 1\n",
    "    answer = int(input(\"How many green bottles will be hanging on the wall? \"))\n",
    "    if answer == num:\n",
    "        print (\"There will be\", num, \"green bottles hanging on the wall\")\n",
    "    else:\n",
    "        while answer != num:\n",
    "            answer = int(input(\"No, try again: \"))\n",
    "print (\"There are no more green bottles hanging on the wall\")"
   ]
  },
  {
   "cell_type": "markdown",
   "metadata": {},
   "source": [
    "## Challenge 052\n",
    "\n",
    "Display a random integer between 1 and 100 inclusive."
   ]
  },
  {
   "cell_type": "code",
   "execution_count": 20,
   "metadata": {},
   "outputs": [
    {
     "name": "stdout",
     "output_type": "stream",
     "text": [
      "25\n"
     ]
    }
   ],
   "source": [
    "import random\n",
    "\n",
    "num = random.randint(1, 100)\n",
    "\n",
    "print (num)"
   ]
  },
  {
   "cell_type": "markdown",
   "metadata": {},
   "source": [
    "## Challenge 053\n",
    "\n",
    "Display a random fruit from a list of five fruits."
   ]
  },
  {
   "cell_type": "code",
   "execution_count": 21,
   "metadata": {},
   "outputs": [
    {
     "name": "stdout",
     "output_type": "stream",
     "text": [
      "Bananas\n"
     ]
    }
   ],
   "source": [
    "import random\n",
    "\n",
    "fruit = random.choice([\"Grapes\", \"Oranges\", \"Apples\", \"pairs\", \"Bananas\"])\n",
    "\n",
    "print (fruit)"
   ]
  },
  {
   "cell_type": "markdown",
   "metadata": {},
   "source": [
    "## Challenge 054\n",
    "\n",
    "Randomly chose heads or tails (\"h\" or \"t\"). Ask the user to make their choice. If their choice is the same as the randomly selected value, display the message **\"You win\"**, otherwise display **\"bad luck\"**. At the end, tell the user if the computer selected heads or tails."
   ]
  },
  {
   "cell_type": "code",
   "execution_count": 22,
   "metadata": {},
   "outputs": [
    {
     "name": "stdout",
     "output_type": "stream",
     "text": [
      "Enter (h)eads or (t)ails: t\n",
      "Bad luck\n",
      "It was heads\n"
     ]
    }
   ],
   "source": [
    "import random\n",
    "\n",
    "coin = random.choice([\"h\", \"t\"])\n",
    "guess = input(\"Enter (h)eads or (t)ails: \")\n",
    "\n",
    "if guess == coin:\n",
    "    print (\"You win\")\n",
    "else:\n",
    "    print (\"Bad luck\")\n",
    "if coin == \"h\":\n",
    "    print (\"It was heads\")\n",
    "else:\n",
    "    print (\"It was tails\")"
   ]
  },
  {
   "cell_type": "markdown",
   "metadata": {},
   "source": [
    "## Challenge 055\n",
    "Randomly choose a number between 1 and 5. Ask the user to pick a number. If they guess correctly, display the message **\"Well done\"**, otherwise tell them if they are too high or too low and ask them to pick a second number. If they guess correctly on their second guess, display **\"Correct\"**, otherwise display **\"You lose\"**."
   ]
  },
  {
   "cell_type": "code",
   "execution_count": 23,
   "metadata": {},
   "outputs": [
    {
     "name": "stdout",
     "output_type": "stream",
     "text": [
      "Enter a number: 3\n",
      "Too high\n",
      "Have another go: 2\n",
      "You lose\n"
     ]
    }
   ],
   "source": [
    "import random\n",
    "\n",
    "num = random.randint(1, 5)\n",
    "guess = int(input(\"Enter a number: \"))\n",
    "\n",
    "if guess == num:\n",
    "    print (\"You win\")\n",
    "elif guess > num:\n",
    "    print (\"Too high\")\n",
    "    guess = int(input(\"Have another go: \"))\n",
    "    if guess == num:\n",
    "        print (\"Correct\")\n",
    "    else:\n",
    "        print (\"You lose\")\n",
    "elif guess < num:\n",
    "    print (\"Too Low\")\n",
    "    guess = int(input(\"Have another go: \"))\n",
    "    if guess == num:\n",
    "        print (\"Correct\")\n",
    "    else:\n",
    "        print (\"You lose\")"
   ]
  },
  {
   "cell_type": "markdown",
   "metadata": {},
   "source": [
    "## Challenge 056\n",
    "\n",
    "Randomly pick a whole number between 1 and 10. Ask the user to enter a number and keep entering numbers until they enter the number that was randomly picked."
   ]
  },
  {
   "cell_type": "code",
   "execution_count": 24,
   "metadata": {},
   "outputs": [
    {
     "name": "stdout",
     "output_type": "stream",
     "text": [
      "Enter a number: 1\n",
      "Enter a number: 2\n",
      "Enter a number: 3\n",
      "Enter a number: 4\n",
      "Enter a number: 5\n",
      "Enter a number: 6\n",
      "Enter a number: 7\n",
      "Enter a number: 8\n"
     ]
    }
   ],
   "source": [
    "import random\n",
    "\n",
    "num = random.randint(1, 10)\n",
    "correct = False\n",
    "\n",
    "while correct == False:\n",
    "    guess = int(input(\"Enter a number: \"))\n",
    "    if guess == num:\n",
    "        correct = True"
   ]
  },
  {
   "cell_type": "markdown",
   "metadata": {},
   "source": [
    "## Challenge 057\n",
    "\n",
    "Update program 56 so that it tells the user if they are too hight or too low before they pick again.\n"
   ]
  },
  {
   "cell_type": "code",
   "execution_count": 25,
   "metadata": {},
   "outputs": [
    {
     "name": "stdout",
     "output_type": "stream",
     "text": [
      "Enter a number: 5\n",
      "Too high\n",
      "Enter a number: 4\n",
      "Too high\n",
      "Enter a number: 3\n"
     ]
    }
   ],
   "source": [
    "import random\n",
    "\n",
    "num = random.randint(1, 10)\n",
    "correct = False\n",
    "\n",
    "while correct == False:\n",
    "    guess = int(input(\"Enter a number: \"))\n",
    "    if guess == num:\n",
    "        correct = True\n",
    "    elif guess > num:\n",
    "        print (\"Too high\")\n",
    "    else:\n",
    "        print (\"Too low\")"
   ]
  },
  {
   "cell_type": "markdown",
   "metadata": {},
   "source": [
    "## Challenge 058\n",
    "\n",
    "Make a maths quiz that asks five questions by randomly generating two whole numbers to make the question (e.g. (num1) + (num2)). Ask the user to enter the answer. If they get it right add a point to their score. At the end of the quiz, tell them how many they got corret out of five."
   ]
  },
  {
   "cell_type": "code",
   "execution_count": 26,
   "metadata": {},
   "outputs": [
    {
     "name": "stdout",
     "output_type": "stream",
     "text": [
      "1 + 34 =\n",
      "Your answer: 35\n",
      "\n",
      "3 + 39 =\n",
      "Your answer: 42\n",
      "\n",
      "17 + 5 =\n",
      "Your answer: 22\n",
      "\n",
      "35 + 26 =\n",
      "Your answer: 61\n",
      "\n",
      "14 + 12 =\n",
      "Your answer: 26\n",
      "\n",
      "You scored 5 out of 5\n"
     ]
    }
   ],
   "source": [
    "import random\n",
    "\n",
    "score = 0\n",
    "\n",
    "for i in range (1, 6):\n",
    "    num1 = random.randint(1, 50)\n",
    "    num2 = random.randint(1, 50)\n",
    "    correct = num1 + num2\n",
    "    print (num1, \"+\", num2, \"=\")\n",
    "    answer = int(input(\"Your answer: \"))\n",
    "    print ()\n",
    "    if answer == correct:\n",
    "        score = score + 1\n",
    "print (\"You scored\", score, \"out of 5\")"
   ]
  },
  {
   "cell_type": "markdown",
   "metadata": {},
   "source": [
    "## Challenge 059\n",
    "\n",
    "Display five colours and ask the user to pick one. If they pick the same as the program has chosen say **\"Well done\"**, otherwise display a witty answer which involves the correct colour, e.g. **\"I bet you are GREEN with envy\"** or **\"You are probably feeling BLUE right now\"** Ask them to guess agian; if they still have not got it right, keep giving them the same clue and ask the user to enter a colour until they guess it correctly."
   ]
  },
  {
   "cell_type": "code",
   "execution_count": 27,
   "metadata": {},
   "outputs": [
    {
     "name": "stdout",
     "output_type": "stream",
     "text": [
      "select from red, blue, green, white, pink\n",
      "Enter a colour: red\n",
      "Don't feel BLUE\n",
      "Enter a colour: blue\n",
      "Well done\n"
     ]
    }
   ],
   "source": [
    "import random\n",
    "\n",
    "colour = random.choice([\"red\", \"blue\", \"green\", \"white\", \"pink\"])\n",
    "\n",
    "print (\"select from red, blue, green, white, pink\")\n",
    "\n",
    "tryAgain = True\n",
    "\n",
    "while tryAgain == True:\n",
    "    theirChoice = input(\"Enter a colour: \")\n",
    "    theirChoice = theirChoice.lower()\n",
    "    if colour == theirChoice:\n",
    "        print (\"Well done\")\n",
    "        tryAgain = False\n",
    "    else:\n",
    "        if colour == \"red\":\n",
    "            print (\"I bet you are seeing RED right now\")\n",
    "        elif colour == \"blue\":\n",
    "            print (\"Don't feel BLUE\")\n",
    "        elif colour == \"green\":\n",
    "            print (\"I bet you are GREEN with envy right now\")\n",
    "        elif colour == \"white\":\n",
    "            print (\"Are you WHITE as a sheet, as you didn't guess correctly\")\n",
    "        elif colour == \"pink\":\n",
    "            print (\"Shame you are not feeling in the PINK, as you got it wrong!\")"
   ]
  },
  {
   "cell_type": "code",
   "execution_count": null,
   "metadata": {},
   "outputs": [],
   "source": []
  }
 ],
 "metadata": {
  "kernelspec": {
   "display_name": "Python 3",
   "language": "python",
   "name": "python3"
  },
  "language_info": {
   "codemirror_mode": {
    "name": "ipython",
    "version": 3
   },
   "file_extension": ".py",
   "mimetype": "text/x-python",
   "name": "python",
   "nbconvert_exporter": "python",
   "pygments_lexer": "ipython3",
   "version": "3.7.3"
  }
 },
 "nbformat": 4,
 "nbformat_minor": 2
}
