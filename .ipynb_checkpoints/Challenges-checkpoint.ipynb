{
 "cells": [
  {
   "cell_type": "markdown",
   "metadata": {},
   "source": [
    "# Python By Example Book Challenges\n",
    "\n",
    "## Challenge 001\n",
    "\n",
    "Ask for the user's first name and display the output message\n",
    "**Hello (First Name)**"
   ]
  },
  {
   "cell_type": "code",
   "execution_count": 1,
   "metadata": {},
   "outputs": [
    {
     "name": "stdout",
     "output_type": "stream",
     "text": [
      "Please enter your first name: Kerry\n",
      "Hello Kerry\n"
     ]
    }
   ],
   "source": [
    "firstname=input(\"Please enter your first name: \")\n",
    "\n",
    "print(\"Hello\", firstname)"
   ]
  },
  {
   "cell_type": "markdown",
   "metadata": {},
   "source": [
    "## Challenge 002\n",
    "\n",
    "Ask the user for their first name and then ask for their surname and display the output message **Hello (first name) (surname)**"
   ]
  },
  {
   "cell_type": "code",
   "execution_count": 2,
   "metadata": {},
   "outputs": [
    {
     "name": "stdout",
     "output_type": "stream",
     "text": [
      "Please enter your first name: Kerry\n",
      "Please enter your surname: Kidd\n",
      "Hello Kerry Kidd\n"
     ]
    }
   ],
   "source": [
    "firstname = input(\"Please enter your first name: \")\n",
    "surname = input(\"Please enter your surname: \")\n",
    "\n",
    "print (\"Hello\", firstname, surname)"
   ]
  },
  {
   "cell_type": "markdown",
   "metadata": {},
   "source": [
    "## Challenge 003\n",
    "\n",
    "Write code that will display the joke **\"What do you call a bear with no teeth?\"** and on the next line display the answer **\"A gummy bear!\"** Try to create it using one line of code. "
   ]
  },
  {
   "cell_type": "code",
   "execution_count": 3,
   "metadata": {},
   "outputs": [
    {
     "name": "stdout",
     "output_type": "stream",
     "text": [
      "What do you call a bear with no teeth?\n",
      "A gummy bear\n"
     ]
    }
   ],
   "source": [
    "print(\"What do you call a bear with no teeth?\\nA gummy bear\")"
   ]
  },
  {
   "cell_type": "markdown",
   "metadata": {},
   "source": [
    "## Challenge 004\n",
    "\n",
    "Ask the user to enter two numbers. Add them together and display the answer as **The total is (answer)**"
   ]
  },
  {
   "cell_type": "code",
   "execution_count": 4,
   "metadata": {},
   "outputs": [
    {
     "name": "stdout",
     "output_type": "stream",
     "text": [
      "Enter a number: 2\n",
      "Enter another number: 2\n",
      "The total is 4\n"
     ]
    }
   ],
   "source": [
    "numvalue1 = int(input(\"Enter a number: \"))\n",
    "numvalue2 = int(input(\"Enter another number: \"))\n",
    "total = numvalue1 + numvalue2\n",
    "\n",
    "print(\"The total is\", total)"
   ]
  },
  {
   "cell_type": "markdown",
   "metadata": {},
   "source": [
    "## Challenge 005\n",
    "\n",
    "Ask the user to enter three numbers. Add together the first two numbers and then multiply this total by the third number. Display the answer as **The answer is (answer)**"
   ]
  },
  {
   "cell_type": "code",
   "execution_count": 5,
   "metadata": {},
   "outputs": [
    {
     "name": "stdout",
     "output_type": "stream",
     "text": [
      "Enter a number: 2\n",
      "Enter another number: 2\n",
      "Enter a third number: 2\n",
      "The answer is 8\n"
     ]
    }
   ],
   "source": [
    "num1 = int(input(\"Enter a number: \"))\n",
    "num2 = int(input(\"Enter another number: \"))\n",
    "num3 = int(input(\"Enter a third number: \"))\n",
    "\n",
    "answer = (num1 + num2)*num3\n",
    "\n",
    "print(\"The answer is\" , answer)"
   ]
  },
  {
   "cell_type": "markdown",
   "metadata": {},
   "source": [
    "## Challenge 006\n",
    "\n",
    "Ask how many slices of pizza the user started with and ask howmany they have eaten. Workout how many slices they have left and diaplay the answer in a user-friendly format."
   ]
  },
  {
   "cell_type": "code",
   "execution_count": 6,
   "metadata": {},
   "outputs": [
    {
     "name": "stdout",
     "output_type": "stream",
     "text": [
      "How many slices of pizza? 12\n",
      "How many slices have you eaten? 5\n",
      "You have 7 slices of pizza left\n"
     ]
    }
   ],
   "source": [
    "startedWith = int(input(\"How many slices of pizza? \"))\n",
    "eaten = int(input(\"How many slices have you eaten? \"))\n",
    "left = startedWith - eaten\n",
    "\n",
    "print (\"You have\", left, \"slices of pizza left\")"
   ]
  },
  {
   "cell_type": "markdown",
   "metadata": {},
   "source": [
    "## Challenge 007\n",
    "\n",
    "Ask the user for their name and their age. Add 1 to their age and display the output **(Name) next birthday you will be (new age)**"
   ]
  },
  {
   "cell_type": "code",
   "execution_count": 7,
   "metadata": {},
   "outputs": [
    {
     "name": "stdout",
     "output_type": "stream",
     "text": [
      "What is your name? kerry\n",
      "What is your age? 31\n",
      "kerry next birthday you will be 32\n"
     ]
    }
   ],
   "source": [
    "name = input(\"What is your name? \")\n",
    "age = int(input(\"What is your age? \"))\n",
    "newAge = age + 1\n",
    "\n",
    "print(name, \"next birthday you will be\", newAge)"
   ]
  },
  {
   "cell_type": "markdown",
   "metadata": {},
   "source": [
    "## Challenge 008\n",
    "\n",
    "Ask for the total price of the bill, then ask how many diners there are. Divide the total bill by the number of diners and show how much each person must pay."
   ]
  },
  {
   "cell_type": "code",
   "execution_count": 9,
   "metadata": {},
   "outputs": [
    {
     "name": "stdout",
     "output_type": "stream",
     "text": [
      "What is the total bill?200\n",
      "How many diners? 15\n",
      "Each diner has to pay £ 13.333333333333334\n"
     ]
    }
   ],
   "source": [
    "totalBill = int(input(\"What is the total bill?\"))\n",
    "Diners = int(input(\"How many diners? \"))\n",
    "ToPay = totalBill / Diners\n",
    "\n",
    "print(\"Each diner has to pay £\", ToPay)"
   ]
  },
  {
   "cell_type": "markdown",
   "metadata": {},
   "source": [
    "## Challenge 009\n",
    "\n",
    "Write a program that will ask for a number of days and then will show howmany hours, minutes and seconds are in that number of days."
   ]
  },
  {
   "cell_type": "code",
   "execution_count": 10,
   "metadata": {},
   "outputs": [
    {
     "name": "stdout",
     "output_type": "stream",
     "text": [
      "How many days? 2\n",
      "In 2 days there are...\n",
      "48 hours\n",
      "2880 minutes\n",
      "172800 seconds\n"
     ]
    }
   ],
   "source": [
    "days = int(input(\"How many days? \"))\n",
    "hours = days * 24\n",
    "minutes = hours * 60\n",
    "seconds = minutes * 60\n",
    "\n",
    "print(\"In\", days, \"days there are...\")\n",
    "print(hours, \"hours\")\n",
    "print(minutes, \"minutes\")\n",
    "print(seconds, \"seconds\")"
   ]
  },
  {
   "cell_type": "markdown",
   "metadata": {},
   "source": [
    "## Challenge 010\n",
    "\n",
    "There are 2,204 pounds in a kilogram. Ask the user to enter a weight in kilograms and convert it to pounds."
   ]
  },
  {
   "cell_type": "code",
   "execution_count": 11,
   "metadata": {},
   "outputs": [
    {
     "name": "stdout",
     "output_type": "stream",
     "text": [
      "How many kilograms? 12\n",
      "That is 26.448 pounds\n"
     ]
    }
   ],
   "source": [
    "kilo = int(input(\"How many kilograms? \"))\n",
    "\n",
    "pounds = kilo * 2.204\n",
    "\n",
    "print(\"That is\", pounds, \"pounds\")"
   ]
  },
  {
   "cell_type": "markdown",
   "metadata": {},
   "source": [
    "## Challenge 011\n",
    "\n",
    "Task the user to enter a number over 100 and then enter a number under 10 and tell them how many times the smaller number goes into the larger number in a user-friendly format."
   ]
  },
  {
   "cell_type": "code",
   "execution_count": 12,
   "metadata": {},
   "outputs": [
    {
     "name": "stdout",
     "output_type": "stream",
     "text": [
      "Enter a number over 100: 101\n",
      "Enter a number under 10: 3\n",
      "3 goes into 101 33.666666666666664 times\n"
     ]
    }
   ],
   "source": [
    "larger = int(input(\"Enter a number over 100: \"))\n",
    "smaller = int(input(\"Enter a number under 10: \"))\n",
    "\n",
    "answer = larger / smaller\n",
    "\n",
    "print(smaller, \"goes into\", larger, answer, \"times\")"
   ]
  },
  {
   "cell_type": "markdown",
   "metadata": {},
   "source": [
    "## Challenge 012\n",
    "\n",
    "Ask for two numbers. If the first one is larger than the second, display the second number first and then the first number, otherwise show the first number first then the second number."
   ]
  },
  {
   "cell_type": "code",
   "execution_count": 1,
   "metadata": {},
   "outputs": [
    {
     "name": "stdout",
     "output_type": "stream",
     "text": [
      "Enter a number: 2\n",
      "Enter another number: 5\n",
      "2 5\n"
     ]
    }
   ],
   "source": [
    "num1 = int(input(\"Enter a number: \"))\n",
    "num2 = int(input(\"Enter another number: \"))\n",
    "\n",
    "if num1 > num2:\n",
    "    print(num2, num1)\n",
    "else:\n",
    "    print(num1, num2)"
   ]
  },
  {
   "cell_type": "markdown",
   "metadata": {},
   "source": [
    "## Challenge 013\n",
    "\n",
    "Ask the user to enter a number that is under 20. If they enter a number that is 20 or more, Display the message \"Too high\" otherwise display \"Thank you\""
   ]
  },
  {
   "cell_type": "code",
   "execution_count": 2,
   "metadata": {},
   "outputs": [
    {
     "name": "stdout",
     "output_type": "stream",
     "text": [
      "Enter a number under 20: 10\n",
      "Thank you\n"
     ]
    }
   ],
   "source": [
    "num = int(input(\"Enter a number under 20: \"))\n",
    "\n",
    "if num >= 20:\n",
    "    print(\"Too high\")\n",
    "else:\n",
    "    print(\"Thank you\")"
   ]
  },
  {
   "cell_type": "markdown",
   "metadata": {},
   "source": [
    "## Challenge 014\n",
    "\n",
    "Ask the user to enter a number between 10 and 20 (inclusive). If they enter a number within this range, display the message \"Thank you\" otherwise display the message \"Incorrect answer\"."
   ]
  },
  {
   "cell_type": "code",
   "execution_count": 3,
   "metadata": {},
   "outputs": [
    {
     "name": "stdout",
     "output_type": "stream",
     "text": [
      "Enter a number between 10 and 20:15\n",
      "Thank you\n"
     ]
    }
   ],
   "source": [
    "num = int(input(\"Enter a number between 10 and 20:\"))\n",
    "\n",
    "if num >= 10 and num <= 20:\n",
    "    print(\"Thank you\")\n",
    "else:\n",
    "    print(\"Incorrect answer\")"
   ]
  },
  {
   "cell_type": "markdown",
   "metadata": {},
   "source": [
    "## Challenge 015\n",
    "\n",
    "Ask the user to enter their favourite colour. If they enter \"red\", \"RED\" or \"Red\" display the message \"I like red too\", otherwise display the message \"I don't like (colour). I prefer red."
   ]
  },
  {
   "cell_type": "code",
   "execution_count": 4,
   "metadata": {},
   "outputs": [
    {
     "name": "stdout",
     "output_type": "stream",
     "text": [
      "What is your favourite colour? RED\n",
      "I like red too\n"
     ]
    }
   ],
   "source": [
    "colour = input(\"What is your favourite colour? \")\n",
    "\n",
    "if colour == \"red\" or colour == \"RED\" or colour == \"Red\":\n",
    "    print(\"I like red too\")\n",
    "else:\n",
    "    print (\"I don't like\", colour, \"I prefer red\")"
   ]
  },
  {
   "cell_type": "markdown",
   "metadata": {},
   "source": [
    "## Challenge 016\n",
    "\n",
    "Ask the user if it is raining and convert their answer to lowercase so it doesn't matter what case they type it in. If they answer \"yes\", ask if it is windy. If they answer \"yes\" to this second question, display the answer \"It is too windy for an umbrella\", otherwise display the message \"Take an umbrella\". If they did not answer yes to the first question, display the answer \"Enjoy your day\"."
   ]
  },
  {
   "cell_type": "code",
   "execution_count": 5,
   "metadata": {},
   "outputs": [
    {
     "name": "stdout",
     "output_type": "stream",
     "text": [
      "Is it raining? yes\n",
      "Is it windy? YES\n",
      "It is too windy for an umbrella\n"
     ]
    }
   ],
   "source": [
    "raining = input(\"Is it raining? \")\n",
    "raining = str.lower(raining)\n",
    "\n",
    "if raining == \"yes\":\n",
    "    windy = input(\"Is it windy? \")\n",
    "    windy = str.lower(windy)\n",
    "    if windy == \"yes\":\n",
    "        print(\"It is too windy for an umbrella\")\n",
    "    else:\n",
    "        print(\"Take an umbrella\")\n",
    "else:\n",
    "    print(\"Enjoy your day\")"
   ]
  },
  {
   "cell_type": "markdown",
   "metadata": {},
   "source": [
    "## Challenge 017\n",
    "\n",
    "Ask the users age. If they are 18 or over , display the message \"You can vote\", if they are aged 17, display the message \"You can learn to drive\", if they are 16 , display the message \"You can buy a lottery ticket\", if they are under 16, display the message \"You can go trick or treating\"."
   ]
  },
  {
   "cell_type": "code",
   "execution_count": 6,
   "metadata": {},
   "outputs": [
    {
     "name": "stdout",
     "output_type": "stream",
     "text": [
      "How old are you? 12\n",
      "You can go trick or treating\n"
     ]
    }
   ],
   "source": [
    "age = int(input(\"How old are you? \"))\n",
    "\n",
    "if age >= 18:\n",
    "    print(\"You can vote\")\n",
    "elif age == 17:\n",
    "    print(\"You can learn to drive\")\n",
    "elif age == 16:\n",
    "    print(\"You can buy a lottery ticket\")\n",
    "else:\n",
    "    print(\"You can go trick or treating\")"
   ]
  },
  {
   "cell_type": "markdown",
   "metadata": {},
   "source": [
    "## Challenge 018\n",
    "\n",
    "Ask the user to enter a number. If it is under 10, display the message \"Too low\", if their number is between 10 and 20 display \"Correct\", otherwise display \"too high\""
   ]
  },
  {
   "cell_type": "code",
   "execution_count": 7,
   "metadata": {},
   "outputs": [
    {
     "name": "stdout",
     "output_type": "stream",
     "text": [
      "Enter a number: 5\n",
      "Too low\n"
     ]
    }
   ],
   "source": [
    "num = int(input(\"Enter a number: \"))\n",
    "\n",
    "if num < 10:\n",
    "    print(\"Too low\")\n",
    "elif num >= 10 and num <= 20:\n",
    "    print(\"Correct\")\n",
    "else:\n",
    "    print(\"Too high\")"
   ]
  },
  {
   "cell_type": "markdown",
   "metadata": {},
   "source": [
    "## Challenge 019\n",
    "\n",
    "Ask the user to enter 1, 2, or 3. If they enter a 1, displaythe message \"thank you\", if they enter a 2, display \"Well done\", if they enter a 3, display \"Correct\". If they enter anything else, display \"Error message\"."
   ]
  },
  {
   "cell_type": "code",
   "execution_count": 8,
   "metadata": {},
   "outputs": [
    {
     "name": "stdout",
     "output_type": "stream",
     "text": [
      "Enter a 1,2 or 3: 2\n",
      "Well done\n"
     ]
    }
   ],
   "source": [
    "num = int(input(\"Enter a 1,2 or 3: \"))\n",
    "\n",
    "if num == 1:\n",
    "    print(\"Thank you\")\n",
    "elif num == 2:\n",
    "    print(\"Well done\")\n",
    "elif num == 3:\n",
    "    print(\"Correct\")\n",
    "else:\n",
    "    print(\"Error message\")"
   ]
  },
  {
   "cell_type": "markdown",
   "metadata": {},
   "source": [
    "## Challenge 020\n",
    "\n",
    "Ask the user to enter their first name and then display the length of their name."
   ]
  },
  {
   "cell_type": "code",
   "execution_count": 1,
   "metadata": {},
   "outputs": [
    {
     "name": "stdout",
     "output_type": "stream",
     "text": [
      "Enter your name: Kerry\n",
      "5\n"
     ]
    }
   ],
   "source": [
    "name = input(\"Enter your name: \")\n",
    "\n",
    "length = len(name)\n",
    "\n",
    "print(length)"
   ]
  },
  {
   "cell_type": "markdown",
   "metadata": {},
   "source": [
    "## Challenge 021\n",
    "Ask the user to enter their first name and then ask them to enter their surname. join them together with a space between and display the name and the length of whole name."
   ]
  },
  {
   "cell_type": "code",
   "execution_count": 2,
   "metadata": {},
   "outputs": [
    {
     "name": "stdout",
     "output_type": "stream",
     "text": [
      "Enter your first name: Kerry\n",
      "Enter your surnname: Kidd\n",
      "Kerry Kidd\n",
      "10\n"
     ]
    }
   ],
   "source": [
    "firstname = input(\"Enter your first name: \")\n",
    "surname = input(\"Enter your surnname: \")\n",
    "\n",
    "name = firstname + \" \" + surname\n",
    "length = len(name)\n",
    "\n",
    "print(name)\n",
    "print(length)"
   ]
  },
  {
   "cell_type": "markdown",
   "metadata": {},
   "source": [
    "## Challenge 022\n",
    "\n",
    "Ask the user to enter their first name and surname in lowercase. Change the case to title case and join them together. Display the finished result."
   ]
  },
  {
   "cell_type": "code",
   "execution_count": 3,
   "metadata": {},
   "outputs": [
    {
     "name": "stdout",
     "output_type": "stream",
     "text": [
      "Enter your first name in lowercase: kerry\n",
      "Enter your surname in lowercase: kidd\n",
      "Kerry Kidd\n"
     ]
    }
   ],
   "source": [
    "firstname = input(\"Enter your first name in lowercase: \")\n",
    "surname = input(\"Enter your surname in lowercase: \")\n",
    "\n",
    "name = firstname + \" \" + surname\n",
    "\n",
    "print (name.title())"
   ]
  },
  {
   "cell_type": "markdown",
   "metadata": {},
   "source": [
    "## Challenge 023\n",
    "\n",
    "Ask the user to type in the first line of a nursery rhyme and display the length of the string. Ask for a starting number and an ending number and then display just that selection of the text (python starts counting at 0)."
   ]
  },
  {
   "cell_type": "code",
   "execution_count": 4,
   "metadata": {},
   "outputs": [
    {
     "name": "stdout",
     "output_type": "stream",
     "text": [
      "enter a line from a nursery rhyme: humpty dumpty sat on a wall\n",
      "this has 27 letters in it\n",
      "Enter a starting number: 3\n",
      "Enter a end number: 9\n",
      "pty du\n"
     ]
    }
   ],
   "source": [
    "rhyme = input(\"enter a line from a nursery rhyme: \")\n",
    "\n",
    "length = len(rhyme)\n",
    "\n",
    "print(\"this has\", length, \"letters in it\")\n",
    "\n",
    "start = int(input(\"Enter a starting number: \"))\n",
    "end = int(input(\"Enter a end number: \"))\n",
    "\n",
    "print(rhyme [start:end])"
   ]
  },
  {
   "cell_type": "markdown",
   "metadata": {},
   "source": [
    "## Challenge 024\n",
    "\n",
    "Ask the user to type in any word and display it in uppercase."
   ]
  },
  {
   "cell_type": "code",
   "execution_count": 5,
   "metadata": {},
   "outputs": [
    {
     "name": "stdout",
     "output_type": "stream",
     "text": [
      "enter any word: Hello\n",
      "HELLO\n"
     ]
    }
   ],
   "source": [
    "word = input(\"enter any word: \")\n",
    "\n",
    "print(word.upper())"
   ]
  },
  {
   "cell_type": "markdown",
   "metadata": {},
   "source": [
    "## Challenge 025\n",
    "\n",
    "Ask the user to enter their first name. If the length of their first name is under 5 characters, ask them to enter their surname and join them together (without a space) and display the name in uppercase. If the length of the first name is 5 characters or more display their first name in lowercase."
   ]
  },
  {
   "cell_type": "code",
   "execution_count": 7,
   "metadata": {},
   "outputs": [
    {
     "name": "stdout",
     "output_type": "stream",
     "text": [
      "Enter your first name: kidd\n",
      "Enter your surname: kerry\n",
      "KIDDKERRY\n"
     ]
    }
   ],
   "source": [
    "firstname = input(\"Enter your first name: \")\n",
    "\n",
    "if len(firstname) < 5:\n",
    "    surname = input(\"Enter your surname: \")\n",
    "    name = firstname+surname\n",
    "    print(name.upper())\n",
    "else:\n",
    "    print(firstname.lower())"
   ]
  },
  {
   "cell_type": "markdown",
   "metadata": {},
   "source": [
    "## Challenge 026\n",
    "\n",
    "Pig latin takes the first consonant of a word, moves it to the end of the word and adds on an \"ay\". If a word begins with a vowel you just add \"way\" to the end. For example, pig becomes igpay, banana becomes ananabay, and aadvark becomes aadvarkway. Create a program that will ask the user to enter a word and change it into Pig Latin. Make sure the new word is displayed in lowercase."
   ]
  },
  {
   "cell_type": "code",
   "execution_count": 9,
   "metadata": {},
   "outputs": [
    {
     "name": "stdout",
     "output_type": "stream",
     "text": [
      "Enter a word: Hello\n",
      "ellohay\n"
     ]
    }
   ],
   "source": [
    "word = input(\"Enter a word: \")\n",
    "\n",
    "first = word[0]\n",
    "length = len(word)\n",
    "rest = word [1:length]\n",
    "\n",
    "if first != \"a\" and first != \"e\" and first != \"i\" and first != \"o\" and first != \"u\":\n",
    "    newWord = rest + first + \"ay\"\n",
    "else:\n",
    "    newWord = word + \"way\"\n",
    "\n",
    "\n",
    "print(newWord.lower())"
   ]
  },
  {
   "cell_type": "markdown",
   "metadata": {},
   "source": [
    "## Challenge 027\n",
    "\n",
    "Ask the user to enter a number with lots of decimal places. Multiply this number by 2 and display the answer."
   ]
  },
  {
   "cell_type": "code",
   "execution_count": 1,
   "metadata": {},
   "outputs": [
    {
     "name": "stdout",
     "output_type": "stream",
     "text": [
      "Enter a number with alot of decimal places: 2.34578766554475687568\n",
      "4.691575331089513\n"
     ]
    }
   ],
   "source": [
    "num = float(input(\"Enter a number with alot of decimal places: \"))\n",
    "\n",
    "print(num*2)"
   ]
  },
  {
   "cell_type": "markdown",
   "metadata": {},
   "source": [
    "## Challenge 028\n",
    "\n",
    "Update program 27 so that it will display the answer to two decimal places."
   ]
  },
  {
   "cell_type": "code",
   "execution_count": 2,
   "metadata": {},
   "outputs": [
    {
     "name": "stdout",
     "output_type": "stream",
     "text": [
      "Enter a number with alot of decimal places: 2.345475665876756654345432\n",
      "4.69\n"
     ]
    }
   ],
   "source": [
    "num = float(input(\"Enter a number with alot of decimal places: \"))\n",
    "answer = num*2\n",
    "\n",
    "print(round(answer, 2))"
   ]
  },
  {
   "cell_type": "markdown",
   "metadata": {},
   "source": [
    "## Challenge 029\n",
    "\n",
    "Ask the user to enter an integer that is over 500. Work out the square root of that number and display it to two decimal places."
   ]
  },
  {
   "cell_type": "code",
   "execution_count": 3,
   "metadata": {},
   "outputs": [
    {
     "name": "stdout",
     "output_type": "stream",
     "text": [
      "Enter a number over 500:550\n",
      "23.45\n"
     ]
    }
   ],
   "source": [
    "import math\n",
    "\n",
    "num = int(input(\"Enter a number over 500:\" ))\n",
    "\n",
    "num = math.sqrt(num)\n",
    "\n",
    "print (round(num, 2))"
   ]
  },
  {
   "cell_type": "markdown",
   "metadata": {},
   "source": [
    "## Challenge 030\n",
    "\n",
    "Display pi to five decimal places"
   ]
  },
  {
   "cell_type": "code",
   "execution_count": 4,
   "metadata": {},
   "outputs": [
    {
     "name": "stdout",
     "output_type": "stream",
     "text": [
      "3.14159\n"
     ]
    }
   ],
   "source": [
    "import math\n",
    "\n",
    "print (round(math.pi, 5))"
   ]
  },
  {
   "cell_type": "markdown",
   "metadata": {},
   "source": [
    "## Challenge 031\n",
    "\n",
    "Ask the user to enter the radius of a circle (measurement from the centre point to the edge). Work out the area of the circle."
   ]
  },
  {
   "cell_type": "code",
   "execution_count": 5,
   "metadata": {},
   "outputs": [
    {
     "name": "stdout",
     "output_type": "stream",
     "text": [
      "Enter the radius of a circle: 4\n",
      "50.26548245743669\n"
     ]
    }
   ],
   "source": [
    "import math\n",
    "\n",
    "radius = int(input(\"Enter the radius of a circle: \"))\n",
    "\n",
    "area = math.pi*(radius**2)\n",
    "\n",
    "print (area)"
   ]
  },
  {
   "cell_type": "markdown",
   "metadata": {},
   "source": [
    "## Challenge 032\n",
    "\n",
    "Ask for the radius and the depth of a cylinder and workout the total volume (circle area * depth) rounded to three decimal places"
   ]
  },
  {
   "cell_type": "code",
   "execution_count": 6,
   "metadata": {},
   "outputs": [
    {
     "name": "stdout",
     "output_type": "stream",
     "text": [
      "Enter the radius of a cylinder: 4\n",
      "Enter the depth of a cylinder: 2\n",
      "100.531\n"
     ]
    }
   ],
   "source": [
    "import math\n",
    "\n",
    "radius = int(input(\"Enter the radius of a cylinder: \"))\n",
    "depth = int(input(\"Enter the depth of a cylinder: \"))\n",
    "\n",
    "area = math.pi*(radius**2)\n",
    "volume = area * depth\n",
    "\n",
    "print (round(volume, 3))"
   ]
  },
  {
   "cell_type": "markdown",
   "metadata": {},
   "source": [
    "## Challenge 033\n",
    "\n",
    "Ask the user to enter two numbers. Use whole number division to divide the first number by the second number and also work out the remainder and display the answer in a user friendly way. (if they enter 7  and 2 display 7 divided by 2 is 3 with 1 remaining)"
   ]
  },
  {
   "cell_type": "code",
   "execution_count": 7,
   "metadata": {},
   "outputs": [
    {
     "name": "stdout",
     "output_type": "stream",
     "text": [
      "Enter a number: 9\n",
      "Enter another number: 4\n",
      "9 divided by 4 is 2 with 1 remaining\n"
     ]
    }
   ],
   "source": [
    "num1 = int(input(\"Enter a number: \"))\n",
    "num2 = int(input(\"Enter another number: \"))\n",
    "\n",
    "divide = num1 // num2\n",
    "remainder = num1 % num2\n",
    "\n",
    "print (num1, \"divided by\", num2, \"is\", divide, \"with\", remainder, \"remaining\")"
   ]
  },
  {
   "cell_type": "markdown",
   "metadata": {},
   "source": [
    "## Challenge 034\n",
    "Display the following message:\n",
    "\n",
    "**1) Square**\n",
    "\n",
    "**2) Triangle**\n",
    "\n",
    "**Enter a number:**\n",
    "\n",
    "If the user enters 1, then it should ask them for the length of one of its sides and display the area. If they select 2, it should ask for the base and height of the triangle and display the area. If they type in anything else it should give them a suitable error message."
   ]
  },
  {
   "cell_type": "code",
   "execution_count": 8,
   "metadata": {},
   "outputs": [
    {
     "name": "stdout",
     "output_type": "stream",
     "text": [
      "1) Square\n",
      "2) Triangle\n",
      "\n",
      "Enter a number: 1\n",
      "Enter the length of one side: 3\n",
      "The area of the square is 9\n"
     ]
    }
   ],
   "source": [
    "print(\"1) Square\")\n",
    "print(\"2) Triangle\")\n",
    "print()\n",
    "\n",
    "menuSelection = int(input(\"Enter a number: \"))\n",
    "\n",
    "if menuSelection == 1:\n",
    "    side = int(input(\"Enter the length of one side: \"))\n",
    "    area = side*side\n",
    "    print(\"The area of the square is\", area)\n",
    "elif menuSelection == 2:\n",
    "    base = int(input(\"Enter the length of the base: \"))\n",
    "    height = int(input(\"Enter the height of the triangle: \"))\n",
    "    area = (base*height)/2\n",
    "    print(\"The area of the triangle is\", area)\n",
    "else:\n",
    "    print(\"Incorrect option selected\")"
   ]
  },
  {
   "cell_type": "markdown",
   "metadata": {},
   "source": [
    "## Challenge 035\n",
    "\n",
    "Ask the user to enter their name and then display their name three times."
   ]
  },
  {
   "cell_type": "code",
   "execution_count": 9,
   "metadata": {},
   "outputs": [
    {
     "name": "stdout",
     "output_type": "stream",
     "text": [
      "What is your name? Kerry\n",
      "Kerry\n",
      "Kerry\n",
      "Kerry\n"
     ]
    }
   ],
   "source": [
    "name = input(\"What is your name? \")\n",
    "\n",
    "for i in range (0,3):\n",
    "    print(name)"
   ]
  },
  {
   "cell_type": "markdown",
   "metadata": {},
   "source": [
    "## Challenge 036\n",
    "\n",
    "Alter program 35 so that it will ask the user to enter their name and a number and then display their name that number of times."
   ]
  },
  {
   "cell_type": "code",
   "execution_count": 10,
   "metadata": {},
   "outputs": [
    {
     "name": "stdout",
     "output_type": "stream",
     "text": [
      "What is your name? Kerry\n",
      "Enter a number: 4\n",
      "Kerry\n",
      "Kerry\n",
      "Kerry\n",
      "Kerry\n"
     ]
    }
   ],
   "source": [
    "name = input(\"What is your name? \")\n",
    "num = int (input(\"Enter a number: \"))\n",
    "\n",
    "for i in range (0,num):\n",
    "    print(name)"
   ]
  },
  {
   "cell_type": "markdown",
   "metadata": {},
   "source": [
    "## Challenge 037\n",
    "\n",
    "Ask the user to enter their name and display each letter in their name on a seperate line."
   ]
  },
  {
   "cell_type": "code",
   "execution_count": 11,
   "metadata": {},
   "outputs": [
    {
     "name": "stdout",
     "output_type": "stream",
     "text": [
      "What is your name? kerry\n",
      "k\n",
      "e\n",
      "r\n",
      "r\n",
      "y\n"
     ]
    }
   ],
   "source": [
    "name = input(\"What is your name? \")\n",
    "\n",
    "for i in name:\n",
    "    print(i)"
   ]
  },
  {
   "cell_type": "markdown",
   "metadata": {},
   "source": [
    "## Challenge 038\n",
    "\n",
    "Change program 37 to also ask for a number. Display their name (one letter at a time on each line) and repeat this for the number of times they entered."
   ]
  },
  {
   "cell_type": "code",
   "execution_count": 12,
   "metadata": {},
   "outputs": [
    {
     "name": "stdout",
     "output_type": "stream",
     "text": [
      "What is your name? kerry\n",
      "Enter a number: 2\n",
      "k\n",
      "e\n",
      "r\n",
      "r\n",
      "y\n",
      "k\n",
      "e\n",
      "r\n",
      "r\n",
      "y\n"
     ]
    }
   ],
   "source": [
    "name = input(\"What is your name? \")\n",
    "num = int (input(\"Enter a number: \"))\n",
    "\n",
    "for x in range(0, num):\n",
    "    for i in name:\n",
    "        print(i)"
   ]
  },
  {
   "cell_type": "markdown",
   "metadata": {},
   "source": [
    "## Challenge 039\n",
    "\n",
    "Ask the user to enter a number between 1 and 12 and ten display the times table for that number."
   ]
  },
  {
   "cell_type": "code",
   "execution_count": 13,
   "metadata": {},
   "outputs": [
    {
     "name": "stdout",
     "output_type": "stream",
     "text": [
      "Enter a number: 4\n",
      "1 x 4 = 4\n",
      "2 x 4 = 8\n",
      "3 x 4 = 12\n",
      "4 x 4 = 16\n",
      "5 x 4 = 20\n",
      "6 x 4 = 24\n",
      "7 x 4 = 28\n",
      "8 x 4 = 32\n",
      "9 x 4 = 36\n",
      "10 x 4 = 40\n",
      "11 x 4 = 44\n"
     ]
    }
   ],
   "source": [
    "num = int (input(\"Enter a number: \"))\n",
    "\n",
    "for i in range(1,12):\n",
    "    answer = i * num\n",
    "    print(i, \"x\", num, \"=\", answer)"
   ]
  },
  {
   "cell_type": "markdown",
   "metadata": {},
   "source": [
    "## Challenge 040\n",
    "\n",
    "Ask for a number below 50 and then count down from 50 to that number, making sure you show the number they entered in the output."
   ]
  },
  {
   "cell_type": "code",
   "execution_count": 14,
   "metadata": {},
   "outputs": [
    {
     "name": "stdout",
     "output_type": "stream",
     "text": [
      "Enter a number less than 50: 40\n",
      "50\n",
      "49\n",
      "48\n",
      "47\n",
      "46\n",
      "45\n",
      "44\n",
      "43\n",
      "42\n",
      "41\n",
      "40\n"
     ]
    }
   ],
   "source": [
    "num = int (input(\"Enter a number less than 50: \"))\n",
    "\n",
    "for i in range(50, num-1, -1):\n",
    "    print(i)"
   ]
  },
  {
   "cell_type": "markdown",
   "metadata": {},
   "source": [
    "## Challenge 041\n",
    "Ask the user to enter their name and a number. If the number is less than 10, then display their name that number of times; otherwise dislay the message \"Too high\" three times.\n"
   ]
  },
  {
   "cell_type": "code",
   "execution_count": 15,
   "metadata": {},
   "outputs": [
    {
     "name": "stdout",
     "output_type": "stream",
     "text": [
      "What is your name? kerry\n",
      "Enter a number: 5\n",
      "kerry\n",
      "kerry\n",
      "kerry\n",
      "kerry\n",
      "kerry\n"
     ]
    }
   ],
   "source": [
    "name = input(\"What is your name? \")\n",
    "num = int (input(\"Enter a number: \"))\n",
    "\n",
    "if num < 10:\n",
    "    for i in range(0, num):\n",
    "        print(name)\n",
    "else:\n",
    "    for i in range(0, 3):\n",
    "        print(\"Too high\")"
   ]
  },
  {
   "cell_type": "markdown",
   "metadata": {},
   "source": [
    "## Challenge 042\n",
    "\n",
    "Set a variable called total to 0. Ask the user to enter five numbers five numbers and after each input ask them if they want that number included. If they do, then add the number to the total. If they don not want it included, don't add it to the total. After they have entered all five numbers display the total."
   ]
  },
  {
   "cell_type": "code",
   "execution_count": 16,
   "metadata": {},
   "outputs": [
    {
     "name": "stdout",
     "output_type": "stream",
     "text": [
      "Enter a number: 2\n",
      "Do you want this number included? (y/n) y\n",
      "Enter a number: 3\n",
      "Do you want this number included? (y/n) y\n",
      "Enter a number: 3\n",
      "Do you want this number included? (y/n) n\n",
      "Enter a number: 2\n",
      "Do you want this number included? (y/n) n\n",
      "Enter a number: 5\n",
      "Do you want this number included? (y/n) y\n",
      "10\n"
     ]
    }
   ],
   "source": [
    "total = 0\n",
    "\n",
    "for i in range (0,5):\n",
    "    num = int(input(\"Enter a number: \"))\n",
    "    ans = input(\"Do you want this number included? (y/n) \")\n",
    "    if ans == \"y\":\n",
    "        total = total + num\n",
    "print(total)"
   ]
  },
  {
   "cell_type": "markdown",
   "metadata": {},
   "source": [
    "## Challenge 043\n",
    "\n",
    "Ask which direction the user wants to count (up or down). If they select up then ask them for the top number and then count from 1 to that number. If they select down, ask them to select a number below 20 and then count down from 20 to that number, if they entered something other than up or down display the message \"I don't understand\"."
   ]
  },
  {
   "cell_type": "code",
   "execution_count": 17,
   "metadata": {},
   "outputs": [
    {
     "name": "stdout",
     "output_type": "stream",
     "text": [
      "would you like to count up or down? (u/d) u\n",
      "Enter a number to count up to: 20\n",
      "1\n",
      "2\n",
      "3\n",
      "4\n",
      "5\n",
      "6\n",
      "7\n",
      "8\n",
      "9\n",
      "10\n",
      "11\n",
      "12\n",
      "13\n",
      "14\n",
      "15\n",
      "16\n",
      "17\n",
      "18\n",
      "19\n",
      "20\n"
     ]
    }
   ],
   "source": [
    "direction = input(\"would you like to count up or down? (u/d) \")\n",
    "\n",
    "if direction == \"u\":\n",
    "    num = int(input(\"Enter a number to count up to: \"))\n",
    "    for i in range(1, num+1):\n",
    "        print(i)\n",
    "elif direction == \"d\":\n",
    "    num = int(input(\"Enter a number below 20: \"))\n",
    "    for i in range(20,num-1, -1):\n",
    "        print(i)\n",
    "else:\n",
    "    print(\"I don't understand\")"
   ]
  },
  {
   "cell_type": "markdown",
   "metadata": {},
   "source": [
    "## Challenge 044\n",
    "\n",
    "Ask how many people the user wants to invite to a party. If they enter a number below 10. ask for the names and after each name display \"(name) has to be invited to the party\". If they enter a number which is 10 or higher display the message \"Too many people\"."
   ]
  },
  {
   "cell_type": "code",
   "execution_count": 18,
   "metadata": {},
   "outputs": [
    {
     "name": "stdout",
     "output_type": "stream",
     "text": [
      "How many people are coming to the party? 20\n",
      "Too many people\n"
     ]
    }
   ],
   "source": [
    "invite = int(input(\"How many people are coming to the party? \"))\n",
    "\n",
    "if invite < 10:\n",
    "    for i in range (0, invite):\n",
    "        name = input(\"what is their name? \")\n",
    "        print(name, \"has been invited\")\n",
    "else:\n",
    "    print(\"Too many people\")"
   ]
  },
  {
   "cell_type": "code",
   "execution_count": null,
   "metadata": {},
   "outputs": [],
   "source": []
  }
 ],
 "metadata": {
  "kernelspec": {
   "display_name": "Python 3",
   "language": "python",
   "name": "python3"
  },
  "language_info": {
   "codemirror_mode": {
    "name": "ipython",
    "version": 3
   },
   "file_extension": ".py",
   "mimetype": "text/x-python",
   "name": "python",
   "nbconvert_exporter": "python",
   "pygments_lexer": "ipython3",
   "version": "3.7.3"
  }
 },
 "nbformat": 4,
 "nbformat_minor": 2
}
